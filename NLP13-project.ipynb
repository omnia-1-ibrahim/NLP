{
 "cells": [
  {
   "cell_type": "code",
   "execution_count": 1,
   "metadata": {
    "colab": {
     "base_uri": "https://localhost:8080/"
    },
    "id": "Q8zWEqM3_KXt",
    "outputId": "7c1df7d4-44ac-44e6-cbdf-337a725a0259"
   },
   "outputs": [
    {
     "name": "stderr",
     "output_type": "stream",
     "text": [
      "[nltk_data] Downloading package punkt to\n",
      "[nltk_data]     C:\\Users\\Dell\\AppData\\Roaming\\nltk_data...\n",
      "[nltk_data]   Package punkt is already up-to-date!\n",
      "[nltk_data] Downloading package stopwords to\n",
      "[nltk_data]     C:\\Users\\Dell\\AppData\\Roaming\\nltk_data...\n",
      "[nltk_data]   Package stopwords is already up-to-date!\n",
      "[nltk_data] Downloading package wordnet to\n",
      "[nltk_data]     C:\\Users\\Dell\\AppData\\Roaming\\nltk_data...\n",
      "[nltk_data]   Package wordnet is already up-to-date!\n"
     ]
    }
   ],
   "source": [
    "import pandas as pd\n",
    "import numpy as np\n",
    "import torch\n",
    "import string\n",
    "import emoji\n",
    "import spacy\n",
    "import re\n",
    "import nltk\n",
    "from nltk.tokenize import word_tokenize\n",
    "from nltk.corpus import stopwords\n",
    "from nltk.stem import WordNetLemmatizer\n",
    "from spacy.matcher import Matcher\n",
    "from spacy.lang.en import English\n",
    "nltk.download('punkt')\n",
    "nltk.download('stopwords')\n",
    "nltk.download('wordnet')\n",
    "from collections import defaultdict\n",
    "from sklearn.metrics.pairwise import cosine_similarity\n",
    "from tqdm import tqdm\n",
    "import matplotlib.pyplot as plt\n",
    "from nltk.stem import PorterStemmer\n",
    "# Load the English language model\n",
    "nlp = spacy.load(\"en_core_web_sm\")\n",
    "from sklearn.model_selection import train_test_split\n",
    "import tensorflow as tf\n",
    "from tensorflow.keras.layers import Input, Concatenate, Dense\n",
    "from tensorflow.keras.models import Model"
   ]
  },
  {
   "cell_type": "code",
   "execution_count": 2,
   "metadata": {
    "id": "GNQiuRmw_OBH"
   },
   "outputs": [],
   "source": [
    "data = pd.read_csv(r'C:\\Users\\Dell\\Downloads\\archive (3)\\train.csv')\n"
   ]
  },
  {
   "cell_type": "code",
   "execution_count": 3,
   "metadata": {
    "colab": {
     "base_uri": "https://localhost:8080/"
    },
    "id": "MDBbJZTy_ZK8",
    "outputId": "681c2a7b-249e-4e66-f247-4423410d009d"
   },
   "outputs": [
    {
     "data": {
      "text/plain": [
       "(2142, 6)"
      ]
     },
     "execution_count": 3,
     "metadata": {},
     "output_type": "execute_result"
    }
   ],
   "source": [
    "data.shape"
   ]
  },
  {
   "cell_type": "code",
   "execution_count": 4,
   "metadata": {
    "colab": {
     "base_uri": "https://localhost:8080/",
     "height": 206
    },
    "id": "OpXX1xn4_by9",
    "outputId": "c49a592a-f00b-4313-d7aa-f80151d19b16"
   },
   "outputs": [
    {
     "data": {
      "text/html": [
       "<div>\n",
       "<style scoped>\n",
       "    .dataframe tbody tr th:only-of-type {\n",
       "        vertical-align: middle;\n",
       "    }\n",
       "\n",
       "    .dataframe tbody tr th {\n",
       "        vertical-align: top;\n",
       "    }\n",
       "\n",
       "    .dataframe thead th {\n",
       "        text-align: right;\n",
       "    }\n",
       "</style>\n",
       "<table border=\"1\" class=\"dataframe\">\n",
       "  <thead>\n",
       "    <tr style=\"text-align: right;\">\n",
       "      <th></th>\n",
       "      <th>Unnamed: 0</th>\n",
       "      <th>description_x</th>\n",
       "      <th>description_y</th>\n",
       "      <th>ticker_x</th>\n",
       "      <th>ticker_y</th>\n",
       "      <th>same_security</th>\n",
       "    </tr>\n",
       "  </thead>\n",
       "  <tbody>\n",
       "    <tr>\n",
       "      <th>0</th>\n",
       "      <td>0</td>\n",
       "      <td>first trust dow jones internet</td>\n",
       "      <td>first trust dj internet idx</td>\n",
       "      <td>FDN</td>\n",
       "      <td>FDN</td>\n",
       "      <td>True</td>\n",
       "    </tr>\n",
       "    <tr>\n",
       "      <th>1</th>\n",
       "      <td>1</td>\n",
       "      <td>schwab intl large company index etf</td>\n",
       "      <td>schwab strategic tr fundamental intl large co ...</td>\n",
       "      <td>FNDF</td>\n",
       "      <td>FNDF</td>\n",
       "      <td>True</td>\n",
       "    </tr>\n",
       "    <tr>\n",
       "      <th>2</th>\n",
       "      <td>2</td>\n",
       "      <td>vanguard small cap index adm</td>\n",
       "      <td>vanguard small-cap index fund inst</td>\n",
       "      <td>VSMAX</td>\n",
       "      <td>VSCIX</td>\n",
       "      <td>False</td>\n",
       "    </tr>\n",
       "    <tr>\n",
       "      <th>3</th>\n",
       "      <td>3</td>\n",
       "      <td>duke energy corp new com new isin #us4 sedol #...</td>\n",
       "      <td>duke energy corp new com new isin #us26441c204...</td>\n",
       "      <td>DUK</td>\n",
       "      <td>DUK</td>\n",
       "      <td>True</td>\n",
       "    </tr>\n",
       "    <tr>\n",
       "      <th>4</th>\n",
       "      <td>4</td>\n",
       "      <td>visa inc class a</td>\n",
       "      <td>visa inc.</td>\n",
       "      <td>V</td>\n",
       "      <td>V</td>\n",
       "      <td>True</td>\n",
       "    </tr>\n",
       "  </tbody>\n",
       "</table>\n",
       "</div>"
      ],
      "text/plain": [
       "   Unnamed: 0                                      description_x  \\\n",
       "0           0                     first trust dow jones internet   \n",
       "1           1                schwab intl large company index etf   \n",
       "2           2                       vanguard small cap index adm   \n",
       "3           3  duke energy corp new com new isin #us4 sedol #...   \n",
       "4           4                                   visa inc class a   \n",
       "\n",
       "                                       description_y ticker_x ticker_y  \\\n",
       "0                        first trust dj internet idx      FDN      FDN   \n",
       "1  schwab strategic tr fundamental intl large co ...     FNDF     FNDF   \n",
       "2                 vanguard small-cap index fund inst    VSMAX    VSCIX   \n",
       "3  duke energy corp new com new isin #us26441c204...      DUK      DUK   \n",
       "4                                          visa inc.        V        V   \n",
       "\n",
       "   same_security  \n",
       "0           True  \n",
       "1           True  \n",
       "2          False  \n",
       "3           True  \n",
       "4           True  "
      ]
     },
     "execution_count": 4,
     "metadata": {},
     "output_type": "execute_result"
    }
   ],
   "source": [
    "data.head()"
   ]
  },
  {
   "cell_type": "code",
   "execution_count": 5,
   "metadata": {
    "colab": {
     "base_uri": "https://localhost:8080/"
    },
    "id": "rvKP8rTw_dnB",
    "outputId": "9bcbb3fb-1ba7-4a60-c923-6bbf31bb2757"
   },
   "outputs": [
    {
     "name": "stdout",
     "output_type": "stream",
     "text": [
      "<class 'pandas.core.frame.DataFrame'>\n",
      "RangeIndex: 2142 entries, 0 to 2141\n",
      "Data columns (total 6 columns):\n",
      " #   Column         Non-Null Count  Dtype \n",
      "---  ------         --------------  ----- \n",
      " 0   Unnamed: 0     2142 non-null   int64 \n",
      " 1   description_x  2142 non-null   object\n",
      " 2   description_y  2142 non-null   object\n",
      " 3   ticker_x       2142 non-null   object\n",
      " 4   ticker_y       2142 non-null   object\n",
      " 5   same_security  2142 non-null   bool  \n",
      "dtypes: bool(1), int64(1), object(4)\n",
      "memory usage: 85.9+ KB\n"
     ]
    }
   ],
   "source": [
    "data.info()"
   ]
  },
  {
   "cell_type": "code",
   "execution_count": 6,
   "metadata": {
    "colab": {
     "base_uri": "https://localhost:8080/"
    },
    "id": "bh1u-xBN_ghe",
    "outputId": "ebaef937-dee2-45bd-f7b7-00590d2c3542"
   },
   "outputs": [
    {
     "name": "stdout",
     "output_type": "stream",
     "text": [
      "        Unnamed: 0\n",
      "count  2142.000000\n",
      "mean   1070.500000\n",
      "std     618.486459\n",
      "min       0.000000\n",
      "25%     535.250000\n",
      "50%    1070.500000\n",
      "75%    1605.750000\n",
      "max    2141.000000\n"
     ]
    },
    {
     "data": {
      "text/plain": [
       "Unnamed: 0       0\n",
       "description_x    0\n",
       "description_y    0\n",
       "ticker_x         0\n",
       "ticker_y         0\n",
       "same_security    0\n",
       "dtype: int64"
      ]
     },
     "execution_count": 6,
     "metadata": {},
     "output_type": "execute_result"
    }
   ],
   "source": [
    "print(data.describe())\n",
    "data.isnull().sum()\n"
   ]
  },
  {
   "cell_type": "code",
   "execution_count": 7,
   "metadata": {
    "colab": {
     "base_uri": "https://localhost:8080/",
     "height": 626
    },
    "id": "GTlrS9u7_mR5",
    "outputId": "f72017d0-b49a-4fa4-81ab-de5eeee7cb60"
   },
   "outputs": [
    {
     "name": "stdout",
     "output_type": "stream",
     "text": [
      "same_security\n",
      "True     1613\n",
      "False     529\n",
      "Name: count, dtype: int64\n",
      "same_security\n",
      "True     75.303455\n",
      "False    24.696545\n",
      "Name: count, dtype: float64\n"
     ]
    },
    {
     "data": {
      "text/plain": [
       "<Axes: xlabel='same_security'>"
      ]
     },
     "execution_count": 7,
     "metadata": {},
     "output_type": "execute_result"
    },
    {
     "data": {
      "image/png": "[encoded data removed]",
      "text/plain": [
       "<Figure size 640x480 with 1 Axes>"
      ]
     },
     "metadata": {},
     "output_type": "display_data"
    }
   ],
   "source": [
    "print(data['same_security'].value_counts())\n",
    "print((data['same_security'].value_counts()/data['same_security'].count())*100)\n",
    "data['same_security'].value_counts().plot(kind='bar')"
   ]
  },
  {
   "cell_type": "code",
   "execution_count": 8,
   "metadata": {
    "colab": {
     "base_uri": "https://localhost:8080/"
    },
    "id": "gwA9x3Q__pO2",
    "outputId": "8ae39997-d8c0-40d9-870a-29e618ce8445"
   },
   "outputs": [
    {
     "data": {
      "text/plain": [
       "0"
      ]
     },
     "execution_count": 8,
     "metadata": {},
     "output_type": "execute_result"
    }
   ],
   "source": [
    "data.duplicated().sum()"
   ]
  },
  {
   "cell_type": "code",
   "execution_count": 9,
   "metadata": {
    "colab": {
     "base_uri": "https://localhost:8080/"
    },
    "id": "FpTLYwm1_tbj",
    "outputId": "e9d8f50b-25ee-4bd8-a387-3f7235e22feb"
   },
   "outputs": [
    {
     "name": "stdout",
     "output_type": "stream",
     "text": [
      "Number of unique questions 2597\n",
      "Number of questions getting repeated 901\n"
     ]
    }
   ],
   "source": [
    "# Repeated Questions\n",
    "qid=pd.Series(data['description_x'].tolist()+data['description_y'].tolist())\n",
    "print('Number of unique questions',np.unique(qid).shape[0])\n",
    "x=qid.value_counts()>1\n",
    "print('Number of questions getting repeated',x[x].shape[0])"
   ]
  },
  {
   "cell_type": "code",
   "execution_count": 99,
   "metadata": {
    "colab": {
     "base_uri": "https://localhost:8080/",
     "height": 430
    },
    "id": "eKzb3pNI_wJC",
    "outputId": "0c068d14-998d-47cb-bbdf-4f0bea3c9735"
   },
   "outputs": [
    {
     "data": {
      "image/png": "[encoded data removed]",
      "text/plain": [
       "<Figure size 640x480 with 1 Axes>"
      ]
     },
     "metadata": {},
     "output_type": "display_data"
    }
   ],
   "source": [
    "plt.hist(qid.value_counts().values,bins=160)\n",
    "plt.yscale('log')\n",
    "plt.show()"
   ]
  },
  {
   "cell_type": "code",
   "execution_count": 11,
   "metadata": {
    "id": "79YfTvvV_zj0"
   },
   "outputs": [],
   "source": [
    "data.rename(columns ={'description_x':'question1','description_y':'question2','same_security':'is_similar'},inplace=True)\n",
    "data.drop(columns=['ticker_x', 'ticker_y', data.columns[0]], inplace=True)\n"
   ]
  },
  {
   "cell_type": "code",
   "execution_count": 12,
   "metadata": {
    "colab": {
     "base_uri": "https://localhost:8080/"
    },
    "id": "v9LcXqx2_6RT",
    "outputId": "b088e647-bcad-4986-d083-23438f6ef66b"
   },
   "outputs": [
    {
     "name": "stdout",
     "output_type": "stream",
     "text": [
      "X_train shape: (1713, 2), y_train shape: (1713,)\n",
      "X_test shape: (215, 2), y_test shape: (215,)\n",
      "X_val shape: (214, 2), y_val shape: (214,)\n"
     ]
    }
   ],
   "source": [
    "X_train, y_train = data[['question1', 'question2']], data['is_similar']\n",
    "\n",
    "X_train, X_val_test, y_train, y_val_test = train_test_split(X_train, y_train, test_size=0.2, random_state=42)\n",
    "\n",
    "X_val, X_test, y_val, y_test = train_test_split(X_val_test, y_val_test, test_size=0.5, random_state=42)\n",
    "\n",
    "print(f\"X_train shape: {X_train.shape}, y_train shape: {y_train.shape}\")\n",
    "print(f\"X_test shape: {X_test.shape}, y_test shape: {y_test.shape}\")\n",
    "print(f\"X_val shape: {X_val.shape}, y_val shape: {y_val.shape}\")\n"
   ]
  },
  {
   "cell_type": "code",
   "execution_count": 13,
   "metadata": {
    "colab": {
     "base_uri": "https://localhost:8080/",
     "height": 206
    },
    "id": "L-6QN6Q1_8ra",
    "outputId": "8792507b-5d3d-4482-a61c-69a059cdf031"
   },
   "outputs": [
    {
     "data": {
      "text/html": [
       "<div>\n",
       "<style scoped>\n",
       "    .dataframe tbody tr th:only-of-type {\n",
       "        vertical-align: middle;\n",
       "    }\n",
       "\n",
       "    .dataframe tbody tr th {\n",
       "        vertical-align: top;\n",
       "    }\n",
       "\n",
       "    .dataframe thead th {\n",
       "        text-align: right;\n",
       "    }\n",
       "</style>\n",
       "<table border=\"1\" class=\"dataframe\">\n",
       "  <thead>\n",
       "    <tr style=\"text-align: right;\">\n",
       "      <th></th>\n",
       "      <th>question1</th>\n",
       "      <th>question2</th>\n",
       "    </tr>\n",
       "  </thead>\n",
       "  <tbody>\n",
       "    <tr>\n",
       "      <th>905</th>\n",
       "      <td>novo nordisk a s adr</td>\n",
       "      <td>novo nordisk a/s-adr nvorepstg 1/2 cl b sh</td>\n",
       "    </tr>\n",
       "    <tr>\n",
       "      <th>1699</th>\n",
       "      <td>spdr barclays high yieldbond etf</td>\n",
       "      <td>spdr barclays high yield bond (jnk)</td>\n",
       "    </tr>\n",
       "    <tr>\n",
       "      <th>1954</th>\n",
       "      <td>freeport mcmoran copper and gold inc</td>\n",
       "      <td>freeport-mcmoran inc</td>\n",
       "    </tr>\n",
       "    <tr>\n",
       "      <th>305</th>\n",
       "      <td>ishares msci switzerland capped</td>\n",
       "      <td>ishares msci switzerland capped etf</td>\n",
       "    </tr>\n",
       "    <tr>\n",
       "      <th>986</th>\n",
       "      <td>philip morris international inc</td>\n",
       "      <td>philip morris intl com</td>\n",
       "    </tr>\n",
       "  </tbody>\n",
       "</table>\n",
       "</div>"
      ],
      "text/plain": [
       "                                 question1  \\\n",
       "905                   novo nordisk a s adr   \n",
       "1699      spdr barclays high yieldbond etf   \n",
       "1954  freeport mcmoran copper and gold inc   \n",
       "305        ishares msci switzerland capped   \n",
       "986        philip morris international inc   \n",
       "\n",
       "                                       question2  \n",
       "905   novo nordisk a/s-adr nvorepstg 1/2 cl b sh  \n",
       "1699         spdr barclays high yield bond (jnk)  \n",
       "1954                        freeport-mcmoran inc  \n",
       "305          ishares msci switzerland capped etf  \n",
       "986                       philip morris intl com  "
      ]
     },
     "execution_count": 13,
     "metadata": {},
     "output_type": "execute_result"
    }
   ],
   "source": [
    "X_train.head()"
   ]
  },
  {
   "cell_type": "code",
   "execution_count": 14,
   "metadata": {
    "colab": {
     "base_uri": "https://localhost:8080/",
     "height": 206
    },
    "id": "SeF-wm3tAANK",
    "outputId": "5689e240-f064-4027-b25e-4312dac1e33f"
   },
   "outputs": [
    {
     "data": {
      "text/html": [
       "<div>\n",
       "<style scoped>\n",
       "    .dataframe tbody tr th:only-of-type {\n",
       "        vertical-align: middle;\n",
       "    }\n",
       "\n",
       "    .dataframe tbody tr th {\n",
       "        vertical-align: top;\n",
       "    }\n",
       "\n",
       "    .dataframe thead th {\n",
       "        text-align: right;\n",
       "    }\n",
       "</style>\n",
       "<table border=\"1\" class=\"dataframe\">\n",
       "  <thead>\n",
       "    <tr style=\"text-align: right;\">\n",
       "      <th></th>\n",
       "      <th>question1</th>\n",
       "      <th>question2</th>\n",
       "    </tr>\n",
       "  </thead>\n",
       "  <tbody>\n",
       "    <tr>\n",
       "      <th>617</th>\n",
       "      <td>ld abt sh drtn inc i</td>\n",
       "      <td>lord abbett short duration income fd cl f</td>\n",
       "    </tr>\n",
       "    <tr>\n",
       "      <th>1978</th>\n",
       "      <td>trp retirement 2050</td>\n",
       "      <td>t. rowe price 2050 fund</td>\n",
       "    </tr>\n",
       "    <tr>\n",
       "      <th>554</th>\n",
       "      <td>wp carey inc com</td>\n",
       "      <td>w p carey and co. llc.</td>\n",
       "    </tr>\n",
       "    <tr>\n",
       "      <th>940</th>\n",
       "      <td>pimco income fund cl d</td>\n",
       "      <td>pimco incm cl d</td>\n",
       "    </tr>\n",
       "    <tr>\n",
       "      <th>49</th>\n",
       "      <td>prudential jennison natural resources z</td>\n",
       "      <td>pru/j nat resrcs z</td>\n",
       "    </tr>\n",
       "  </tbody>\n",
       "</table>\n",
       "</div>"
      ],
      "text/plain": [
       "                                    question1  \\\n",
       "617                      ld abt sh drtn inc i   \n",
       "1978                      trp retirement 2050   \n",
       "554                          wp carey inc com   \n",
       "940                    pimco income fund cl d   \n",
       "49    prudential jennison natural resources z   \n",
       "\n",
       "                                      question2  \n",
       "617   lord abbett short duration income fd cl f  \n",
       "1978                    t. rowe price 2050 fund  \n",
       "554                      w p carey and co. llc.  \n",
       "940                             pimco incm cl d  \n",
       "49                           pru/j nat resrcs z  "
      ]
     },
     "execution_count": 14,
     "metadata": {},
     "output_type": "execute_result"
    }
   ],
   "source": [
    "X_test.head()\n"
   ]
  },
  {
   "cell_type": "code",
   "execution_count": 15,
   "metadata": {
    "colab": {
     "base_uri": "https://localhost:8080/",
     "height": 206
    },
    "id": "FIH4Gcf8AEfY",
    "outputId": "35567695-4190-4cce-e0d4-1f990d7e6946"
   },
   "outputs": [
    {
     "data": {
      "text/html": [
       "<div>\n",
       "<style scoped>\n",
       "    .dataframe tbody tr th:only-of-type {\n",
       "        vertical-align: middle;\n",
       "    }\n",
       "\n",
       "    .dataframe tbody tr th {\n",
       "        vertical-align: top;\n",
       "    }\n",
       "\n",
       "    .dataframe thead th {\n",
       "        text-align: right;\n",
       "    }\n",
       "</style>\n",
       "<table border=\"1\" class=\"dataframe\">\n",
       "  <thead>\n",
       "    <tr style=\"text-align: right;\">\n",
       "      <th></th>\n",
       "      <th>question1</th>\n",
       "      <th>question2</th>\n",
       "    </tr>\n",
       "  </thead>\n",
       "  <tbody>\n",
       "    <tr>\n",
       "      <th>1288</th>\n",
       "      <td>blackrock total return fund cl a</td>\n",
       "      <td>blackrock glbl opp eq tr f growth &amp; income fund</td>\n",
       "    </tr>\n",
       "    <tr>\n",
       "      <th>188</th>\n",
       "      <td>energy transfer partners lp ut ltd</td>\n",
       "      <td>cheniere energy partners lp com</td>\n",
       "    </tr>\n",
       "    <tr>\n",
       "      <th>1656</th>\n",
       "      <td>facebook inc.</td>\n",
       "      <td>facebook inc class a common stock</td>\n",
       "    </tr>\n",
       "    <tr>\n",
       "      <th>1657</th>\n",
       "      <td>vang tot bd mk is pl</td>\n",
       "      <td>vanguard total bond market index inv</td>\n",
       "    </tr>\n",
       "    <tr>\n",
       "      <th>1677</th>\n",
       "      <td>vanguard intl equity index fd inc ftse all-wor...</td>\n",
       "      <td>vanguard intl equity index</td>\n",
       "    </tr>\n",
       "  </tbody>\n",
       "</table>\n",
       "</div>"
      ],
      "text/plain": [
       "                                              question1  \\\n",
       "1288                   blackrock total return fund cl a   \n",
       "188                  energy transfer partners lp ut ltd   \n",
       "1656                                      facebook inc.   \n",
       "1657                               vang tot bd mk is pl   \n",
       "1677  vanguard intl equity index fd inc ftse all-wor...   \n",
       "\n",
       "                                            question2  \n",
       "1288  blackrock glbl opp eq tr f growth & income fund  \n",
       "188                   cheniere energy partners lp com  \n",
       "1656                facebook inc class a common stock  \n",
       "1657             vanguard total bond market index inv  \n",
       "1677                       vanguard intl equity index  "
      ]
     },
     "execution_count": 15,
     "metadata": {},
     "output_type": "execute_result"
    }
   ],
   "source": [
    "X_val.head()"
   ]
  },
  {
   "cell_type": "code",
   "execution_count": 16,
   "metadata": {
    "id": "TPOv_iq-AHJ8"
   },
   "outputs": [],
   "source": [
    "def get_entities(sent):\n",
    "    ent1 = \"\"\n",
    "    ent2 = \"\"\n",
    "\n",
    "    prv_tok_dep = \"\"  # dependency tag of the previous token in the sentence\n",
    "    prv_tok_text = \"\"  # the previous token in the sentence\n",
    "\n",
    "    prefix = \"\"\n",
    "    modifier = \"\"\n",
    "\n",
    "    for tok in nlp(sent):\n",
    "        # if the token is a punctuation mark, then move on to the next token\n",
    "        if tok.dep_ != \"punct\":\n",
    "            # check if the token is a compound word or not\n",
    "            if tok.dep_ == \"compound\":\n",
    "                prefix = tok.text\n",
    "                # if the previous word was also a 'compound', then add the current word to it\n",
    "                if prv_tok_dep == \"compound\":\n",
    "                    prefix = prv_tok_text + \" \" + tok.text\n",
    "            # check if the token is a modifier or not\n",
    "            if tok.dep_.endswith(\"mod\") == True:\n",
    "                modifier = tok.text\n",
    "                # if the previous word was also a 'compound', then add the current word to it\n",
    "                if prv_tok_dep == \"compound\":\n",
    "                    modifier = prv_tok_text + \" \" + tok.text\n",
    "            # check if the token is a subject\n",
    "            if tok.dep_.find(\"subj\") == True:\n",
    "                ent1 = modifier + \" \" + prefix + \" \" + tok.text\n",
    "                prefix = \"\"\n",
    "                modifier = \"\"\n",
    "                prv_tok_dep = \"\"\n",
    "                prv_tok_text = \"\"\n",
    "            # check if the token is an object\n",
    "            if tok.dep_.find(\"obj\") == True:\n",
    "                ent2 = modifier + \" \" + prefix + \" \" + tok.text\n",
    "            # update variables\n",
    "            prv_tok_dep = tok.dep_\n",
    "            prv_tok_text = tok.text\n",
    "\n",
    "    return [ent1.strip(), ent2.strip()]"
   ]
  },
  {
   "cell_type": "code",
   "execution_count": 17,
   "metadata": {
    "id": "mE81ZrK5AMMX"
   },
   "outputs": [],
   "source": [
    "def clean_text(x):\n",
    "    text = re.sub('(\\d+)','',x)\n",
    "    text = text.lower()\n",
    "    return text\n",
    "def remove_punct(x):\n",
    "    text_without_puct = [t for t in x if t not in string.punctuation]\n",
    "    text_without_puct = ''.join(text_without_puct)\n",
    "    return text_without_puct\n",
    "stemm = PorterStemmer()\n",
    "def stemmer(x):\n",
    "    tokens = word_tokenize(x)\n",
    "    stemmer = PorterStemmer()\n",
    "    tokens = [stemmer.stem(token) for token in tokens]\n",
    "    preprocessed_text = ' '.join(tokens)\n",
    "\n",
    "    return preprocessed_text"
   ]
  },
  {
   "cell_type": "code",
   "execution_count": 18,
   "metadata": {
    "id": "EaIL1dxYAjIt"
   },
   "outputs": [],
   "source": [
    "def get_relation(sent):\n",
    "    doc = nlp(sent)\n",
    "\n",
    "    # Matcher class object\n",
    "    matcher = Matcher(nlp.vocab)\n",
    "\n",
    "    # Define the pattern\n",
    "    pattern = [{'DEP': 'ROOT'},\n",
    "               {'DEP': 'prep', 'OP': \"?\"},\n",
    "               {'DEP': 'agent', 'OP': \"?\"},\n",
    "               {'POS': 'ADJ', 'OP': \"?\"}]\n",
    "\n",
    "    # Wrap the pattern in a list when adding to the Matcher\n",
    "    matcher.add(\"matching_1\", [pattern])\n",
    "\n",
    "    matches = matcher(doc)\n",
    "    k = len(matches) - 1\n",
    "\n",
    "    span = doc[matches[k][1]:matches[k][2]]\n",
    "\n",
    "    return span.text"
   ]
  },
  {
   "cell_type": "code",
   "execution_count": 19,
   "metadata": {
    "id": "rEoqadmQAmVL"
   },
   "outputs": [],
   "source": [
    "\n",
    "X_train['question1'] = X_train['question1'].apply(clean_text)\n",
    "X_train['question1'] = X_train['question1'].apply(remove_punct)\n",
    "X_train['question1'] = X_train['question1'].apply(stemmer)\n",
    "\n",
    "X_train['question2'] = X_train['question2'].apply(clean_text)\n",
    "X_train['question2'] = X_train['question2'].apply(remove_punct)\n",
    "X_train['question2'] = X_train['question2'].apply(stemmer)\n",
    "\n",
    "X_test['question1'] = X_test['question1'].apply(clean_text)\n",
    "X_test['question1'] = X_test['question1'].apply(remove_punct)\n",
    "X_test['question1'] = X_test['question1'].apply(stemmer)\n",
    "\n",
    "\n",
    "X_test['question2'] = X_test['question2'].apply(clean_text)\n",
    "X_test['question2'] = X_test['question2'].apply(remove_punct)\n",
    "X_test['question2'] = X_test['question2'].apply(stemmer)\n",
    "\n",
    "\n",
    "X_val['question1'] = X_val['question1'].apply(clean_text)\n",
    "X_val['question1'] = X_val['question1'].apply(remove_punct)\n",
    "X_val['question1'] = X_val['question1'].apply(stemmer)\n",
    "\n",
    "\n",
    "X_val['question2'] = X_val['question2'].apply(clean_text)\n",
    "X_val['question2'] = X_val['question2'].apply(remove_punct)\n",
    "X_val['question2'] = X_val['question2'].apply(stemmer)\n",
    "\n",
    "\n"
   ]
  },
  {
   "cell_type": "code",
   "execution_count": 20,
   "metadata": {
    "colab": {
     "base_uri": "https://localhost:8080/"
    },
    "id": "cXHuTzs_AqM3",
    "outputId": "c66fa605-fed6-43be-c566-143d31c3e448"
   },
   "outputs": [
    {
     "name": "stderr",
     "output_type": "stream",
     "text": [
      "100%|██████████| 1713/1713 [00:20<00:00, 82.69it/s]\n",
      "100%|██████████| 1713/1713 [00:24<00:00, 69.44it/s]\n",
      "100%|██████████| 1713/1713 [00:22<00:00, 76.12it/s]\n",
      "100%|██████████| 1713/1713 [00:24<00:00, 70.04it/s]\n",
      "100%|██████████| 215/215 [00:03<00:00, 65.26it/s]\n",
      "100%|██████████| 215/215 [00:03<00:00, 56.68it/s]\n",
      "100%|██████████| 215/215 [00:02<00:00, 81.21it/s]\n",
      "100%|██████████| 215/215 [00:02<00:00, 71.74it/s]\n",
      "100%|██████████| 214/214 [00:02<00:00, 82.49it/s]\n",
      "100%|██████████| 214/214 [00:03<00:00, 70.91it/s]\n",
      "100%|██████████| 214/214 [00:02<00:00, 80.38it/s]\n",
      "100%|██████████| 214/214 [00:02<00:00, 75.41it/s]\n"
     ]
    }
   ],
   "source": [
    "entity_pairs_q1 = []\n",
    "for i in tqdm(X_train[\"question1\"]):\n",
    "    entity_pairs_q1.append(get_entities(i))\n",
    "relations_q1 = [get_relation(i) for i in tqdm(X_train['question1'])]\n",
    "\n",
    "\n",
    "entity_pairs_q2 = []\n",
    "for i in tqdm(X_train[\"question2\"]):\n",
    "    entity_pairs_q2.append(get_entities(i))\n",
    "relations_q2 = [get_relation(i) for i in tqdm(X_train['question2'])]\n",
    "\n",
    "\n",
    "entity_pairs_q1 = []\n",
    "for i in tqdm(X_test[\"question1\"]):\n",
    "    entity_pairs_q1.append(get_entities(i))\n",
    "relations_q1 = [get_relation(i) for i in tqdm(X_test['question1'])]\n",
    "\n",
    "\n",
    "entity_pairs_q2 = []\n",
    "for i in tqdm(X_test[\"question2\"]):\n",
    "    entity_pairs_q2.append(get_entities(i))\n",
    "relations_q2 = [get_relation(i) for i in tqdm(X_test['question2'])]\n",
    "\n",
    "\n",
    "\n",
    "entity_pairs_q1 = []\n",
    "for i in tqdm(X_val[\"question1\"]):\n",
    "    entity_pairs_q1.append(get_entities(i))\n",
    "relations_q1 = [get_relation(i) for i in tqdm(X_val['question1'])]\n",
    "\n",
    "\n",
    "entity_pairs_q2 = []\n",
    "for i in tqdm(X_val[\"question2\"]):\n",
    "    entity_pairs_q2.append(get_entities(i))\n",
    "relations_q2 = [get_relation(i) for i in tqdm(X_val['question2'])]"
   ]
  },
  {
   "cell_type": "code",
   "execution_count": 21,
   "metadata": {
    "id": "5pZeM3HCBFBs"
   },
   "outputs": [],
   "source": [
    "# Collect all tokens in a single list\n",
    "all_tokens = X_train['question1'].tolist() + X_train['question2'].tolist()\n",
    "all_tokens = X_test['question1'].tolist() + X_test['question2'].tolist()\n",
    "all_tokens = X_val['question1'].tolist() + X_val['question2'].tolist()"
   ]
  },
  {
   "cell_type": "code",
   "execution_count": 22,
   "metadata": {
    "id": "FwFa7PIZBGNv"
   },
   "outputs": [],
   "source": [
    "# Build vocabulary and convert words to indices\n",
    "word_to_idx = defaultdict(lambda: len(word_to_idx))\n",
    "data_indices = []\n",
    "for tokens in X_train['question1']:\n",
    "    indices = [word_to_idx[token] for token in tokens]\n",
    "    data_indices.append(indices)\n",
    "vocab_size = len(word_to_idx)\n",
    "\n",
    "\n",
    "# Build vocabulary and convert words to indices\n",
    "word_to_idx = defaultdict(lambda: len(word_to_idx))\n",
    "data_indices = []\n",
    "for tokens in X_test['question1']:\n",
    "    indices = [word_to_idx[token] for token in tokens]\n",
    "    data_indices.append(indices)\n",
    "vocab_size = len(word_to_idx)\n",
    "\n",
    "# Build vocabulary and convert words to indices\n",
    "word_to_idx = defaultdict(lambda: len(word_to_idx))\n",
    "data_indices = []\n",
    "for tokens in X_val['question1']:\n",
    "    indices = [word_to_idx[token] for token in tokens]\n",
    "    data_indices.append(indices)\n",
    "vocab_size = len(word_to_idx)"
   ]
  },
  {
   "cell_type": "code",
   "execution_count": 23,
   "metadata": {
    "id": "KLydZyz5BKRa"
   },
   "outputs": [],
   "source": [
    "# Set Word2Vec parameters\n",
    "embed_dim = 100\n",
    "window_size = 5\n",
    "learning_rate = 0.01\n",
    "epochs = 10\n",
    "vocab_size = len(word_to_idx)\n"
   ]
  },
  {
   "cell_type": "code",
   "execution_count": 24,
   "metadata": {
    "id": "_jhcV-oGBNrq"
   },
   "outputs": [],
   "source": [
    "# Initialize word embeddings randomly (with fixed seed for consistency)\n",
    "np.random.seed(42)\n",
    "word_embeddings = np.random.randn(vocab_size, embed_dim)"
   ]
  },
  {
   "cell_type": "code",
   "execution_count": 25,
   "metadata": {
    "id": "XNaaiF9RBT6r"
   },
   "outputs": [],
   "source": [
    "# Train Word2Vec model\n",
    "for _ in range(epochs):\n",
    "    for tokens in data_indices:\n",
    "        for target_idx, target_word in enumerate(tokens):\n",
    "            context_words = tokens[max(0, target_idx - window_size):target_idx] + \\\n",
    "                            tokens[target_idx + 1:min(target_idx + window_size + 1, len(tokens))]\n",
    "            for context_word in context_words:\n",
    "                target_idx_word = word_to_idx[target_word]\n",
    "                context_idx_word = word_to_idx[context_word]\n",
    "                if target_idx_word >= vocab_size or context_idx_word >= vocab_size:\n",
    "                    continue  # Skip if index is out of bounds\n",
    "                target_embed = word_embeddings[target_idx_word]\n",
    "                context_embed = word_embeddings[context_idx_word]\n",
    "                dot_product = np.dot(target_embed, context_embed)"
   ]
  },
  {
   "cell_type": "code",
   "execution_count": 26,
   "metadata": {
    "id": "yINXYa0TBXqA"
   },
   "outputs": [],
   "source": [
    "# Save the trained Word2Vec model\n",
    "np.save('word_embeddings.npy', word_embeddings)\n",
    "word_embeddings = np.load('word_embeddings.npy')"
   ]
  },
  {
   "cell_type": "code",
   "execution_count": null,
   "metadata": {},
   "outputs": [],
   "source": []
  },
  {
   "cell_type": "code",
   "execution_count": 27,
   "metadata": {
    "colab": {
     "base_uri": "https://localhost:8080/"
    },
    "id": "dW1jXLbsBc6g",
    "outputId": "7365a7ae-0406-4f02-abe1-e3470c02da9e"
   },
   "outputs": [
    {
     "data": {
      "text/plain": [
       "905     [0.1510997008792348, 0.17089837379908235, 0.02...\n",
       "1699    [-0.11648744061788212, 0.1266175660105227, -0....\n",
       "1954    [0.4625978591800741, -0.20425922480059427, 0.3...\n",
       "305     [0.17725748937794775, 0.2528124066385635, -0.0...\n",
       "986     [0.21721887840511928, -0.06711562830640486, -0...\n",
       "                              ...                        \n",
       "1638    [0.3475490213317623, 0.04845126722199611, 0.21...\n",
       "1095    [0.17655521014135322, 0.04088006056024692, 0.1...\n",
       "1130    [0.08715739223387636, 0.1839912319526426, 0.19...\n",
       "1294    [0.05885926849232315, 0.11879526923331765, -0....\n",
       "860     [-0.10401900321714036, -0.18364288017271044, 0...\n",
       "Name: question2_embedding, Length: 1713, dtype: object"
      ]
     },
     "execution_count": 27,
     "metadata": {},
     "output_type": "execute_result"
    }
   ],
   "source": [
    "# تعريف دالة لحساب تضمين الجملة\n",
    "def sentence_embedding(tokens):\n",
    "    embeddings = [word_embeddings[word_to_idx[token]] for token in tokens if token in word_to_idx]\n",
    "    if embeddings:\n",
    "        embedding = np.mean(embeddings, axis=0)\n",
    "    else:\n",
    "        embedding = np.zeros(word_embeddings.shape[1])  # Return zeros if no valid embeddings found\n",
    "    return embedding\n",
    "\n",
    "X_train['question1_embedding'] = X_train['question1'].apply(sentence_embedding)\n",
    "X_train['question2_embedding'] = X_train['question2'].apply(sentence_embedding)\n",
    "\n",
    "X_train['question1_embedding']\n",
    "X_train['question2_embedding']"
   ]
  },
  {
   "cell_type": "code",
   "execution_count": 28,
   "metadata": {
    "colab": {
     "base_uri": "https://localhost:8080/"
    },
    "id": "9gZqZsIYBf43",
    "outputId": "83fa4f36-ae83-4008-92b6-d6af6d2e3484"
   },
   "outputs": [
    {
     "data": {
      "text/plain": [
       "617     [0.10666870485125012, 0.20386688879160839, -0....\n",
       "1978    [0.3941859771722372, 0.18201523679711126, -0.0...\n",
       "554     [-0.0813540971357979, 0.0917351801106609, 0.12...\n",
       "940     [-0.07215703352556586, -0.20409082671345427, 0...\n",
       "49      [0.20657953381905914, 0.5904272190663447, -0.1...\n",
       "                              ...                        \n",
       "1999    [0.42070800943460473, -0.0741185291245811, 0.2...\n",
       "409     [-0.021816252409610295, 0.03487264574789953, -...\n",
       "610     [0.5275533926931878, -0.21267736591573633, 0.0...\n",
       "1380    [0.3365214021436171, 0.3863823254830411, 0.093...\n",
       "2114    [0.2753429346086572, 0.2901652063984354, 0.033...\n",
       "Name: question2_embedding, Length: 215, dtype: object"
      ]
     },
     "execution_count": 28,
     "metadata": {},
     "output_type": "execute_result"
    }
   ],
   "source": [
    "# تعريف دالة لحساب تضمين الجملة\n",
    "def sentence_embedding(tokens):\n",
    "    embeddings = [word_embeddings[word_to_idx[token]] for token in tokens if token in word_to_idx]\n",
    "    if embeddings:\n",
    "        embedding = np.mean(embeddings, axis=0)\n",
    "    else:\n",
    "        embedding = np.zeros(word_embeddings.shape[1])  # Return zeros if no valid embeddings found\n",
    "    return embedding\n",
    "\n",
    "X_test['question1_embedding'] = X_test['question1'].apply(sentence_embedding)\n",
    "X_test['question2_embedding'] = X_test['question2'].apply(sentence_embedding)\n",
    "\n",
    "X_test['question1_embedding']\n",
    "X_test['question2_embedding']"
   ]
  },
  {
   "cell_type": "code",
   "execution_count": 29,
   "metadata": {
    "colab": {
     "base_uri": "https://localhost:8080/"
    },
    "id": "m78e-SlvBi5m",
    "outputId": "0693cf33-8740-430b-82c7-bcfc303e6ef8"
   },
   "outputs": [
    {
     "data": {
      "text/plain": [
       "1288    [-0.028019837295289615, 0.03233382078721756, 0...\n",
       "188     [0.2281793869117545, -0.033949403366445606, 0....\n",
       "1656    [-0.02897013637794444, -0.19598445636003875, 0...\n",
       "1657    [0.3332128178292566, -0.10104393672443691, 0.1...\n",
       "1677    [0.36144777879400347, -0.14200516363440546, 0....\n",
       "                              ...                        \n",
       "2118    [0.2330802275389303, -0.26177758367699455, 0.0...\n",
       "973     [0.24386459838863267, 0.25917381920274, -0.029...\n",
       "1607    [0.39112359435191374, -0.15792584986511846, 0....\n",
       "2069    [0.16275338620103819, 0.12785366649832297, -0....\n",
       "1177    [0.44722203441568686, 0.00364385227032315, 0.0...\n",
       "Name: question2_embedding, Length: 214, dtype: object"
      ]
     },
     "execution_count": 29,
     "metadata": {},
     "output_type": "execute_result"
    }
   ],
   "source": [
    "# تعريف دالة لحساب تضمين الجملة\n",
    "def sentence_embedding(tokens):\n",
    "    embeddings = [word_embeddings[word_to_idx[token]] for token in tokens if token in word_to_idx]\n",
    "    if embeddings:\n",
    "        embedding = np.mean(embeddings, axis=0)\n",
    "    else:\n",
    "        embedding = np.zeros(word_embeddings.shape[1])  # Return zeros if no valid embeddings found\n",
    "    return embedding\n",
    "\n",
    "X_val['question1_embedding'] = X_val['question1'].apply(sentence_embedding)\n",
    "X_val['question2_embedding'] = X_val['question2'].apply(sentence_embedding)\n",
    "\n",
    "X_val['question1_embedding']\n",
    "X_val['question2_embedding']"
   ]
  },
  {
   "cell_type": "code",
   "execution_count": 30,
   "metadata": {
    "colab": {
     "base_uri": "https://localhost:8080/"
    },
    "id": "3fubWn6qBnVQ",
    "outputId": "1e2d4684-9c28-4655-cf66-1b2c758dcfd0"
   },
   "outputs": [
    {
     "name": "stdout",
     "output_type": "stream",
     "text": [
      "905     0.957494\n",
      "1699    0.958355\n",
      "1954    0.917962\n",
      "305     0.974752\n",
      "986     0.908461\n",
      "          ...   \n",
      "1638    0.835898\n",
      "1095    0.901078\n",
      "1130    0.961082\n",
      "1294    0.946506\n",
      "860     0.963976\n",
      "Name: similarity_score, Length: 1713, dtype: float64\n"
     ]
    }
   ],
   "source": [
    "X_train['similarity_score'] = X_train.apply(lambda row: cosine_similarity([row['question1_embedding']], [row['question2_embedding']])[0][0], axis=1)\n",
    "\n",
    "print(X_train['similarity_score'])"
   ]
  },
  {
   "cell_type": "code",
   "execution_count": 31,
   "metadata": {
    "colab": {
     "base_uri": "https://localhost:8080/"
    },
    "id": "ommcm6PbBqNK",
    "outputId": "9ab0dc1c-b0ce-4dab-e39f-c12f14ca197b"
   },
   "outputs": [
    {
     "name": "stdout",
     "output_type": "stream",
     "text": [
      "617     0.819363\n",
      "1978    0.649163\n",
      "554     0.862549\n",
      "940     0.945272\n",
      "49      0.787175\n",
      "          ...   \n",
      "1999    0.869913\n",
      "409     0.906821\n",
      "610     0.893820\n",
      "1380    0.908749\n",
      "2114    0.976540\n",
      "Name: similarity_score, Length: 215, dtype: float64\n"
     ]
    }
   ],
   "source": [
    "X_test['similarity_score'] = X_test.apply(lambda row: cosine_similarity([row['question1_embedding']], [row['question2_embedding']])[0][0], axis=1)\n",
    "\n",
    "print(X_test['similarity_score'])"
   ]
  },
  {
   "cell_type": "code",
   "execution_count": 32,
   "metadata": {
    "colab": {
     "base_uri": "https://localhost:8080/"
    },
    "id": "mKwjmdy1BtEu",
    "outputId": "28d2614c-f11f-47cf-ef8b-2ec6658d5056"
   },
   "outputs": [
    {
     "name": "stdout",
     "output_type": "stream",
     "text": [
      "1288    0.882219\n",
      "188     0.840005\n",
      "1656    0.852874\n",
      "1657    0.800685\n",
      "1677    0.925080\n",
      "          ...   \n",
      "2118    0.976089\n",
      "973     0.956304\n",
      "1607    0.976213\n",
      "2069    0.858958\n",
      "1177    0.893975\n",
      "Name: similarity_score, Length: 214, dtype: float64\n"
     ]
    }
   ],
   "source": [
    "X_val['similarity_score'] = X_val.apply(lambda row: cosine_similarity([row['question1_embedding']], [row['question2_embedding']])[0][0], axis=1)\n",
    "\n",
    "print(X_val['similarity_score'])"
   ]
  },
  {
   "cell_type": "code",
   "execution_count": 33,
   "metadata": {
    "colab": {
     "base_uri": "https://localhost:8080/",
     "height": 293
    },
    "id": "YPHXlHlMBwzk",
    "outputId": "e5ab541c-e9e2-4bb4-ce6c-c583c50e9a08"
   },
   "outputs": [
    {
     "data": {
      "text/html": [
       "<div>\n",
       "<style scoped>\n",
       "    .dataframe tbody tr th:only-of-type {\n",
       "        vertical-align: middle;\n",
       "    }\n",
       "\n",
       "    .dataframe tbody tr th {\n",
       "        vertical-align: top;\n",
       "    }\n",
       "\n",
       "    .dataframe thead th {\n",
       "        text-align: right;\n",
       "    }\n",
       "</style>\n",
       "<table border=\"1\" class=\"dataframe\">\n",
       "  <thead>\n",
       "    <tr style=\"text-align: right;\">\n",
       "      <th></th>\n",
       "      <th>question1</th>\n",
       "      <th>question2</th>\n",
       "      <th>question1_embedding</th>\n",
       "      <th>question2_embedding</th>\n",
       "      <th>similarity_score</th>\n",
       "    </tr>\n",
       "  </thead>\n",
       "  <tbody>\n",
       "    <tr>\n",
       "      <th>905</th>\n",
       "      <td>novo nordisk a s adr</td>\n",
       "      <td>novo nordisk asadr nvorepstg cl b sh</td>\n",
       "      <td>[0.20635870584842753, 0.20500242461882606, 0.0...</td>\n",
       "      <td>[0.1510997008792348, 0.17089837379908235, 0.02...</td>\n",
       "      <td>0.957494</td>\n",
       "    </tr>\n",
       "    <tr>\n",
       "      <th>1699</th>\n",
       "      <td>spdr barclay high yieldbond etf</td>\n",
       "      <td>spdr barclay high yield bond jnk</td>\n",
       "      <td>[0.022589573974845376, 0.14644783096810238, -0...</td>\n",
       "      <td>[-0.11648744061788212, 0.1266175660105227, -0....</td>\n",
       "      <td>0.958355</td>\n",
       "    </tr>\n",
       "    <tr>\n",
       "      <th>1954</th>\n",
       "      <td>freeport mcmoran copper and gold inc</td>\n",
       "      <td>freeportmcmoran inc</td>\n",
       "      <td>[0.19269153771819514, 0.004713147473101654, 0....</td>\n",
       "      <td>[0.4625978591800741, -0.20425922480059427, 0.3...</td>\n",
       "      <td>0.917962</td>\n",
       "    </tr>\n",
       "    <tr>\n",
       "      <th>305</th>\n",
       "      <td>ishar msci switzerland cap</td>\n",
       "      <td>ishar msci switzerland cap etf</td>\n",
       "      <td>[0.1695486955523333, 0.30285200211500013, -0.0...</td>\n",
       "      <td>[0.17725748937794775, 0.2528124066385635, -0.0...</td>\n",
       "      <td>0.974752</td>\n",
       "    </tr>\n",
       "    <tr>\n",
       "      <th>986</th>\n",
       "      <td>philip morri intern inc</td>\n",
       "      <td>philip morri intl com</td>\n",
       "      <td>[0.37357636172575287, -0.1982789870568978, -0....</td>\n",
       "      <td>[0.21721887840511928, -0.06711562830640486, -0...</td>\n",
       "      <td>0.908461</td>\n",
       "    </tr>\n",
       "  </tbody>\n",
       "</table>\n",
       "</div>"
      ],
      "text/plain": [
       "                                 question1  \\\n",
       "905                   novo nordisk a s adr   \n",
       "1699       spdr barclay high yieldbond etf   \n",
       "1954  freeport mcmoran copper and gold inc   \n",
       "305             ishar msci switzerland cap   \n",
       "986                philip morri intern inc   \n",
       "\n",
       "                                 question2  \\\n",
       "905   novo nordisk asadr nvorepstg cl b sh   \n",
       "1699      spdr barclay high yield bond jnk   \n",
       "1954                   freeportmcmoran inc   \n",
       "305         ishar msci switzerland cap etf   \n",
       "986                  philip morri intl com   \n",
       "\n",
       "                                    question1_embedding  \\\n",
       "905   [0.20635870584842753, 0.20500242461882606, 0.0...   \n",
       "1699  [0.022589573974845376, 0.14644783096810238, -0...   \n",
       "1954  [0.19269153771819514, 0.004713147473101654, 0....   \n",
       "305   [0.1695486955523333, 0.30285200211500013, -0.0...   \n",
       "986   [0.37357636172575287, -0.1982789870568978, -0....   \n",
       "\n",
       "                                    question2_embedding  similarity_score  \n",
       "905   [0.1510997008792348, 0.17089837379908235, 0.02...          0.957494  \n",
       "1699  [-0.11648744061788212, 0.1266175660105227, -0....          0.958355  \n",
       "1954  [0.4625978591800741, -0.20425922480059427, 0.3...          0.917962  \n",
       "305   [0.17725748937794775, 0.2528124066385635, -0.0...          0.974752  \n",
       "986   [0.21721887840511928, -0.06711562830640486, -0...          0.908461  "
      ]
     },
     "execution_count": 33,
     "metadata": {},
     "output_type": "execute_result"
    }
   ],
   "source": [
    "X_train.head()"
   ]
  },
  {
   "cell_type": "code",
   "execution_count": 34,
   "metadata": {
    "colab": {
     "base_uri": "https://localhost:8080/",
     "height": 293
    },
    "id": "IjfO2AoNBzZL",
    "outputId": "34c6600b-2aab-4155-f1b9-2d8c093e0c1b"
   },
   "outputs": [
    {
     "data": {
      "text/html": [
       "<div>\n",
       "<style scoped>\n",
       "    .dataframe tbody tr th:only-of-type {\n",
       "        vertical-align: middle;\n",
       "    }\n",
       "\n",
       "    .dataframe tbody tr th {\n",
       "        vertical-align: top;\n",
       "    }\n",
       "\n",
       "    .dataframe thead th {\n",
       "        text-align: right;\n",
       "    }\n",
       "</style>\n",
       "<table border=\"1\" class=\"dataframe\">\n",
       "  <thead>\n",
       "    <tr style=\"text-align: right;\">\n",
       "      <th></th>\n",
       "      <th>question1</th>\n",
       "      <th>question2</th>\n",
       "      <th>question1_embedding</th>\n",
       "      <th>question2_embedding</th>\n",
       "      <th>similarity_score</th>\n",
       "    </tr>\n",
       "  </thead>\n",
       "  <tbody>\n",
       "    <tr>\n",
       "      <th>617</th>\n",
       "      <td>ld abt sh drtn inc i</td>\n",
       "      <td>lord abbett short durat incom fd cl f</td>\n",
       "      <td>[0.005559664379992879, 0.11024834883853671, -0...</td>\n",
       "      <td>[0.10666870485125012, 0.20386688879160839, -0....</td>\n",
       "      <td>0.819363</td>\n",
       "    </tr>\n",
       "    <tr>\n",
       "      <th>1978</th>\n",
       "      <td>trp retir</td>\n",
       "      <td>t row price fund</td>\n",
       "      <td>[0.6255601909267754, 0.5877591435893669, -0.54...</td>\n",
       "      <td>[0.3941859771722372, 0.18201523679711126, -0.0...</td>\n",
       "      <td>0.649163</td>\n",
       "    </tr>\n",
       "    <tr>\n",
       "      <th>554</th>\n",
       "      <td>wp carey inc com</td>\n",
       "      <td>w p carey and co llc</td>\n",
       "      <td>[0.2521702597746931, -0.11624101786994645, 0.2...</td>\n",
       "      <td>[-0.0813540971357979, 0.0917351801106609, 0.12...</td>\n",
       "      <td>0.862549</td>\n",
       "    </tr>\n",
       "    <tr>\n",
       "      <th>940</th>\n",
       "      <td>pimco incom fund cl d</td>\n",
       "      <td>pimco incm cl d</td>\n",
       "      <td>[0.04792427089015887, -0.20683349456724767, 0....</td>\n",
       "      <td>[-0.07215703352556586, -0.20409082671345427, 0...</td>\n",
       "      <td>0.945272</td>\n",
       "    </tr>\n",
       "    <tr>\n",
       "      <th>49</th>\n",
       "      <td>prudenti jennison natur resourc z</td>\n",
       "      <td>pruj nat resrc z</td>\n",
       "      <td>[0.4362067059189712, 0.023848532097563956, 0.0...</td>\n",
       "      <td>[0.20657953381905914, 0.5904272190663447, -0.1...</td>\n",
       "      <td>0.787175</td>\n",
       "    </tr>\n",
       "  </tbody>\n",
       "</table>\n",
       "</div>"
      ],
      "text/plain": [
       "                              question1  \\\n",
       "617                ld abt sh drtn inc i   \n",
       "1978                          trp retir   \n",
       "554                    wp carey inc com   \n",
       "940               pimco incom fund cl d   \n",
       "49    prudenti jennison natur resourc z   \n",
       "\n",
       "                                  question2  \\\n",
       "617   lord abbett short durat incom fd cl f   \n",
       "1978                       t row price fund   \n",
       "554                    w p carey and co llc   \n",
       "940                         pimco incm cl d   \n",
       "49                         pruj nat resrc z   \n",
       "\n",
       "                                    question1_embedding  \\\n",
       "617   [0.005559664379992879, 0.11024834883853671, -0...   \n",
       "1978  [0.6255601909267754, 0.5877591435893669, -0.54...   \n",
       "554   [0.2521702597746931, -0.11624101786994645, 0.2...   \n",
       "940   [0.04792427089015887, -0.20683349456724767, 0....   \n",
       "49    [0.4362067059189712, 0.023848532097563956, 0.0...   \n",
       "\n",
       "                                    question2_embedding  similarity_score  \n",
       "617   [0.10666870485125012, 0.20386688879160839, -0....          0.819363  \n",
       "1978  [0.3941859771722372, 0.18201523679711126, -0.0...          0.649163  \n",
       "554   [-0.0813540971357979, 0.0917351801106609, 0.12...          0.862549  \n",
       "940   [-0.07215703352556586, -0.20409082671345427, 0...          0.945272  \n",
       "49    [0.20657953381905914, 0.5904272190663447, -0.1...          0.787175  "
      ]
     },
     "execution_count": 34,
     "metadata": {},
     "output_type": "execute_result"
    }
   ],
   "source": [
    "X_test.head()"
   ]
  },
  {
   "cell_type": "code",
   "execution_count": 35,
   "metadata": {
    "colab": {
     "base_uri": "https://localhost:8080/",
     "height": 293
    },
    "id": "oDMWz8G4B2Lm",
    "outputId": "1286f08e-ab9b-46a0-ed85-44c783ef8649"
   },
   "outputs": [
    {
     "data": {
      "text/html": [
       "<div>\n",
       "<style scoped>\n",
       "    .dataframe tbody tr th:only-of-type {\n",
       "        vertical-align: middle;\n",
       "    }\n",
       "\n",
       "    .dataframe tbody tr th {\n",
       "        vertical-align: top;\n",
       "    }\n",
       "\n",
       "    .dataframe thead th {\n",
       "        text-align: right;\n",
       "    }\n",
       "</style>\n",
       "<table border=\"1\" class=\"dataframe\">\n",
       "  <thead>\n",
       "    <tr style=\"text-align: right;\">\n",
       "      <th></th>\n",
       "      <th>question1</th>\n",
       "      <th>question2</th>\n",
       "      <th>question1_embedding</th>\n",
       "      <th>question2_embedding</th>\n",
       "      <th>similarity_score</th>\n",
       "    </tr>\n",
       "  </thead>\n",
       "  <tbody>\n",
       "    <tr>\n",
       "      <th>1288</th>\n",
       "      <td>blackrock total return fund cl a</td>\n",
       "      <td>blackrock glbl opp eq tr f growth incom fund</td>\n",
       "      <td>[0.023825259360543135, 0.03780456144526624, 0....</td>\n",
       "      <td>[-0.028019837295289615, 0.03233382078721756, 0...</td>\n",
       "      <td>0.882219</td>\n",
       "    </tr>\n",
       "    <tr>\n",
       "      <th>188</th>\n",
       "      <td>energi transfer partner lp ut ltd</td>\n",
       "      <td>chenier energi partner lp com</td>\n",
       "      <td>[0.2797050908227616, 0.19915441360445904, -0.0...</td>\n",
       "      <td>[0.2281793869117545, -0.033949403366445606, 0....</td>\n",
       "      <td>0.840005</td>\n",
       "    </tr>\n",
       "    <tr>\n",
       "      <th>1656</th>\n",
       "      <td>facebook inc</td>\n",
       "      <td>facebook inc class a common stock</td>\n",
       "      <td>[0.07196725358664724, -0.530226979053655, 0.47...</td>\n",
       "      <td>[-0.02897013637794444, -0.19598445636003875, 0...</td>\n",
       "      <td>0.852874</td>\n",
       "    </tr>\n",
       "    <tr>\n",
       "      <th>1657</th>\n",
       "      <td>vang tot bd mk is pl</td>\n",
       "      <td>vanguard total bond market index inv</td>\n",
       "      <td>[0.03459463683253243, 0.11220642406583976, 0.0...</td>\n",
       "      <td>[0.3332128178292566, -0.10104393672443691, 0.1...</td>\n",
       "      <td>0.800685</td>\n",
       "    </tr>\n",
       "    <tr>\n",
       "      <th>1677</th>\n",
       "      <td>vanguard intl equiti index fd inc ftse allworl...</td>\n",
       "      <td>vanguard intl equiti index</td>\n",
       "      <td>[0.19024561963962633, -0.06739095178195993, -0...</td>\n",
       "      <td>[0.36144777879400347, -0.14200516363440546, 0....</td>\n",
       "      <td>0.925080</td>\n",
       "    </tr>\n",
       "  </tbody>\n",
       "</table>\n",
       "</div>"
      ],
      "text/plain": [
       "                                              question1  \\\n",
       "1288                   blackrock total return fund cl a   \n",
       "188                   energi transfer partner lp ut ltd   \n",
       "1656                                       facebook inc   \n",
       "1657                               vang tot bd mk is pl   \n",
       "1677  vanguard intl equiti index fd inc ftse allworl...   \n",
       "\n",
       "                                         question2  \\\n",
       "1288  blackrock glbl opp eq tr f growth incom fund   \n",
       "188                  chenier energi partner lp com   \n",
       "1656             facebook inc class a common stock   \n",
       "1657          vanguard total bond market index inv   \n",
       "1677                    vanguard intl equiti index   \n",
       "\n",
       "                                    question1_embedding  \\\n",
       "1288  [0.023825259360543135, 0.03780456144526624, 0....   \n",
       "188   [0.2797050908227616, 0.19915441360445904, -0.0...   \n",
       "1656  [0.07196725358664724, -0.530226979053655, 0.47...   \n",
       "1657  [0.03459463683253243, 0.11220642406583976, 0.0...   \n",
       "1677  [0.19024561963962633, -0.06739095178195993, -0...   \n",
       "\n",
       "                                    question2_embedding  similarity_score  \n",
       "1288  [-0.028019837295289615, 0.03233382078721756, 0...          0.882219  \n",
       "188   [0.2281793869117545, -0.033949403366445606, 0....          0.840005  \n",
       "1656  [-0.02897013637794444, -0.19598445636003875, 0...          0.852874  \n",
       "1657  [0.3332128178292566, -0.10104393672443691, 0.1...          0.800685  \n",
       "1677  [0.36144777879400347, -0.14200516363440546, 0....          0.925080  "
      ]
     },
     "execution_count": 35,
     "metadata": {},
     "output_type": "execute_result"
    }
   ],
   "source": [
    "X_val.head()"
   ]
  },
  {
   "cell_type": "code",
   "execution_count": 36,
   "metadata": {
    "colab": {
     "base_uri": "https://localhost:8080/"
    },
    "id": "jlmcTiziB4qw",
    "outputId": "5ff59d19-a59f-40e2-d41a-9d9bb24fbcb7"
   },
   "outputs": [
    {
     "name": "stdout",
     "output_type": "stream",
     "text": [
      "X_train shape: (1713, 5), y_train shape: (1713,)\n",
      "X_test shape: (215, 5), y_test shape: (215,)\n",
      "X_val shape: (214, 5), y_val shape: (214,)\n"
     ]
    }
   ],
   "source": [
    "print(f\"X_train shape: {X_train.shape}, y_train shape: {y_train.shape}\")\n",
    "print(f\"X_test shape: {X_test.shape}, y_test shape: {y_test.shape}\")\n",
    "print(f\"X_val shape: {X_val.shape}, y_val shape: {y_val.shape}\")\n"
   ]
  },
  {
   "cell_type": "code",
   "execution_count": 37,
   "metadata": {
    "id": "YwSDyaV1B7bK"
   },
   "outputs": [],
   "source": [
    "threshold = 0.5\n",
    "\n",
    "\n",
    "y_pred = (X_train['similarity_score'] >= threshold).astype(int)\n",
    "\n"
   ]
  },
  {
   "cell_type": "code",
   "execution_count": 38,
   "metadata": {
    "colab": {
     "base_uri": "https://localhost:8080/"
    },
    "id": "TCz2YBHVB-Vj",
    "outputId": "6bbe495c-63df-4f73-ae37-4f5d73136401"
   },
   "outputs": [
    {
     "name": "stdout",
     "output_type": "stream",
     "text": [
      "Accuracy: 0.7553998832457677\n"
     ]
    }
   ],
   "source": [
    "from sklearn.metrics import accuracy_score\n",
    "accuracy = accuracy_score(y_train, y_pred)\n",
    "print(f\"Accuracy: {accuracy}\")"
   ]
  },
  {
   "cell_type": "code",
   "execution_count": 39,
   "metadata": {
    "colab": {
     "base_uri": "https://localhost:8080/"
    },
    "id": "VvO5rG3uC04i",
    "outputId": "2f5db8f0-2ec5-487d-f140-f888db5848f3"
   },
   "outputs": [
    {
     "name": "stdout",
     "output_type": "stream",
     "text": [
      "Confusion Matrix:\n",
      "[[   0  419]\n",
      " [   0 1294]]\n"
     ]
    }
   ],
   "source": [
    "from sklearn.metrics import confusion_matrix\n",
    "\n",
    "cm = confusion_matrix(y_train, y_pred)\n",
    "print(\"Confusion Matrix:\")\n",
    "print(cm)\n"
   ]
  },
  {
   "cell_type": "code",
   "execution_count": 40,
   "metadata": {
    "colab": {
     "base_uri": "https://localhost:8080/"
    },
    "id": "a3L76ZLKC6y7",
    "outputId": "30f55db4-a7d3-4774-97b1-5a941de652b9"
   },
   "outputs": [
    {
     "name": "stdout",
     "output_type": "stream",
     "text": [
      "Precision: 0.7553998832457677\n",
      "Recall: 1.0\n",
      "F1 Score: 0.8606584635849683\n"
     ]
    }
   ],
   "source": [
    "from sklearn.metrics import precision_score, recall_score, f1_score\n",
    "\n",
    "precision = precision_score(y_train, y_pred)\n",
    "recall = recall_score(y_train, y_pred)\n",
    "f1 = f1_score(y_train, y_pred)\n",
    "\n",
    "print(f\"Precision: {precision}\")\n",
    "print(f\"Recall: {recall}\")\n",
    "print(f\"F1 Score: {f1}\")\n"
   ]
  },
  {
   "cell_type": "code",
   "execution_count": 41,
   "metadata": {
    "id": "CnYae6hnDCMq"
   },
   "outputs": [],
   "source": [
    "import tensorflow as tf\n",
    "\n",
    "loss_fn = tf.keras.losses.BinaryCrossentropy()"
   ]
  },
  {
   "cell_type": "code",
   "execution_count": 42,
   "metadata": {
    "id": "JL9nOpEhDIQP"
   },
   "outputs": [],
   "source": [
    "optimizer = tf.keras.optimizers.Adam(learning_rate=0.001)\n",
    "batch_size = 32\n",
    "epochs = 10\n"
   ]
  },
  {
   "cell_type": "code",
   "execution_count": 43,
   "metadata": {
    "id": "cz5BN7eiDK-L"
   },
   "outputs": [],
   "source": [
    "import numpy as np\n",
    "from tensorflow.keras.layers import Input, Dense, Concatenate\n",
    "from tensorflow.keras.models import Model\n",
    "\n",
    "# Load your Word2Vec model\n",
    "word2vec_model = np.load('word_embeddings.npy')\n",
    "\n",
    "# Input layers for sentence embeddings\n",
    "input1 = Input(shape=(word2vec_model.shape[1],))  # Assuming the shape is (num_words, vector_size)\n",
    "input2 = Input(shape=(word2vec_model.shape[1],))\n",
    "\n",
    "# Dense layers\n",
    "dense1 = Dense(15, activation='relu')(input1)\n",
    "dense2 = Dense(15, activation='relu')(input2)\n",
    "\n",
    "# Concatenate and output\n",
    "concat = Concatenate()([dense1, dense2])\n",
    "output = Dense(1, activation='sigmoid')(concat)\n",
    "\n",
    "# Define the model\n",
    "model = Model(inputs=[input1, input2], outputs=output)\n"
   ]
  },
  {
   "cell_type": "code",
   "execution_count": 55,
   "metadata": {
    "colab": {
     "base_uri": "https://localhost:8080/"
    },
    "id": "B9s1cbxYDrc2",
    "outputId": "5f5feb89-8bae-4a92-8458-973488367791"
   },
   "outputs": [
    {
     "data": {
      "text/html": [
       "<pre style=\"white-space:pre;overflow-x:auto;line-height:normal;font-family:Menlo,'DejaVu Sans Mono',consolas,'Courier New',monospace\"><span style=\"font-weight: bold\">Model: \"functional_9\"</span>\n",
       "</pre>\n"
      ],
      "text/plain": [
       "\u001b[1mModel: \"functional_9\"\u001b[0m\n"
      ]
     },
     "metadata": {},
     "output_type": "display_data"
    },
    {
     "data": {
      "text/html": [
       "<pre style=\"white-space:pre;overflow-x:auto;line-height:normal;font-family:Menlo,'DejaVu Sans Mono',consolas,'Courier New',monospace\">┏━━━━━━━━━━━━━━━━━━━━━┳━━━━━━━━━━━━━━━━━━━┳━━━━━━━━━━━━┳━━━━━━━━━━━━━━━━━━━┓\n",
       "┃<span style=\"font-weight: bold\"> Layer (type)        </span>┃<span style=\"font-weight: bold\"> Output Shape      </span>┃<span style=\"font-weight: bold\">    Param # </span>┃<span style=\"font-weight: bold\"> Connected to      </span>┃\n",
       "┡━━━━━━━━━━━━━━━━━━━━━╇━━━━━━━━━━━━━━━━━━━╇━━━━━━━━━━━━╇━━━━━━━━━━━━━━━━━━━┩\n",
       "│ input_layer_8       │ (<span style=\"color: #00d7ff; text-decoration-color: #00d7ff\">None</span>, <span style=\"color: #00af00; text-decoration-color: #00af00\">100</span>)       │          <span style=\"color: #00af00; text-decoration-color: #00af00\">0</span> │ -                 │\n",
       "│ (<span style=\"color: #0087ff; text-decoration-color: #0087ff\">InputLayer</span>)        │                   │            │                   │\n",
       "├─────────────────────┼───────────────────┼────────────┼───────────────────┤\n",
       "│ input_layer_9       │ (<span style=\"color: #00d7ff; text-decoration-color: #00d7ff\">None</span>, <span style=\"color: #00af00; text-decoration-color: #00af00\">100</span>)       │          <span style=\"color: #00af00; text-decoration-color: #00af00\">0</span> │ -                 │\n",
       "│ (<span style=\"color: #0087ff; text-decoration-color: #0087ff\">InputLayer</span>)        │                   │            │                   │\n",
       "├─────────────────────┼───────────────────┼────────────┼───────────────────┤\n",
       "│ concatenate_4       │ (<span style=\"color: #00d7ff; text-decoration-color: #00d7ff\">None</span>, <span style=\"color: #00af00; text-decoration-color: #00af00\">200</span>)       │          <span style=\"color: #00af00; text-decoration-color: #00af00\">0</span> │ input_layer_8[<span style=\"color: #00af00; text-decoration-color: #00af00\">0</span>]… │\n",
       "│ (<span style=\"color: #0087ff; text-decoration-color: #0087ff\">Concatenate</span>)       │                   │            │ input_layer_9[<span style=\"color: #00af00; text-decoration-color: #00af00\">0</span>]… │\n",
       "├─────────────────────┼───────────────────┼────────────┼───────────────────┤\n",
       "│ dense_12 (<span style=\"color: #0087ff; text-decoration-color: #0087ff\">Dense</span>)    │ (<span style=\"color: #00d7ff; text-decoration-color: #00d7ff\">None</span>, <span style=\"color: #00af00; text-decoration-color: #00af00\">32</span>)        │      <span style=\"color: #00af00; text-decoration-color: #00af00\">6,432</span> │ concatenate_4[<span style=\"color: #00af00; text-decoration-color: #00af00\">0</span>]… │\n",
       "├─────────────────────┼───────────────────┼────────────┼───────────────────┤\n",
       "│ dense_13 (<span style=\"color: #0087ff; text-decoration-color: #0087ff\">Dense</span>)    │ (<span style=\"color: #00d7ff; text-decoration-color: #00d7ff\">None</span>, <span style=\"color: #00af00; text-decoration-color: #00af00\">64</span>)        │      <span style=\"color: #00af00; text-decoration-color: #00af00\">2,112</span> │ dense_12[<span style=\"color: #00af00; text-decoration-color: #00af00\">0</span>][<span style=\"color: #00af00; text-decoration-color: #00af00\">0</span>]    │\n",
       "├─────────────────────┼───────────────────┼────────────┼───────────────────┤\n",
       "│ dense_14 (<span style=\"color: #0087ff; text-decoration-color: #0087ff\">Dense</span>)    │ (<span style=\"color: #00d7ff; text-decoration-color: #00d7ff\">None</span>, <span style=\"color: #00af00; text-decoration-color: #00af00\">1</span>)         │         <span style=\"color: #00af00; text-decoration-color: #00af00\">65</span> │ dense_13[<span style=\"color: #00af00; text-decoration-color: #00af00\">0</span>][<span style=\"color: #00af00; text-decoration-color: #00af00\">0</span>]    │\n",
       "└─────────────────────┴───────────────────┴────────────┴───────────────────┘\n",
       "</pre>\n"
      ],
      "text/plain": [
       "┏━━━━━━━━━━━━━━━━━━━━━┳━━━━━━━━━━━━━━━━━━━┳━━━━━━━━━━━━┳━━━━━━━━━━━━━━━━━━━┓\n",
       "┃\u001b[1m \u001b[0m\u001b[1mLayer (type)       \u001b[0m\u001b[1m \u001b[0m┃\u001b[1m \u001b[0m\u001b[1mOutput Shape     \u001b[0m\u001b[1m \u001b[0m┃\u001b[1m \u001b[0m\u001b[1m   Param #\u001b[0m\u001b[1m \u001b[0m┃\u001b[1m \u001b[0m\u001b[1mConnected to     \u001b[0m\u001b[1m \u001b[0m┃\n",
       "┡━━━━━━━━━━━━━━━━━━━━━╇━━━━━━━━━━━━━━━━━━━╇━━━━━━━━━━━━╇━━━━━━━━━━━━━━━━━━━┩\n",
       "│ input_layer_8       │ (\u001b[38;5;45mNone\u001b[0m, \u001b[38;5;34m100\u001b[0m)       │          \u001b[38;5;34m0\u001b[0m │ -                 │\n",
       "│ (\u001b[38;5;33mInputLayer\u001b[0m)        │                   │            │                   │\n",
       "├─────────────────────┼───────────────────┼────────────┼───────────────────┤\n",
       "│ input_layer_9       │ (\u001b[38;5;45mNone\u001b[0m, \u001b[38;5;34m100\u001b[0m)       │          \u001b[38;5;34m0\u001b[0m │ -                 │\n",
       "│ (\u001b[38;5;33mInputLayer\u001b[0m)        │                   │            │                   │\n",
       "├─────────────────────┼───────────────────┼────────────┼───────────────────┤\n",
       "│ concatenate_4       │ (\u001b[38;5;45mNone\u001b[0m, \u001b[38;5;34m200\u001b[0m)       │          \u001b[38;5;34m0\u001b[0m │ input_layer_8[\u001b[38;5;34m0\u001b[0m]… │\n",
       "│ (\u001b[38;5;33mConcatenate\u001b[0m)       │                   │            │ input_layer_9[\u001b[38;5;34m0\u001b[0m]… │\n",
       "├─────────────────────┼───────────────────┼────────────┼───────────────────┤\n",
       "│ dense_12 (\u001b[38;5;33mDense\u001b[0m)    │ (\u001b[38;5;45mNone\u001b[0m, \u001b[38;5;34m32\u001b[0m)        │      \u001b[38;5;34m6,432\u001b[0m │ concatenate_4[\u001b[38;5;34m0\u001b[0m]… │\n",
       "├─────────────────────┼───────────────────┼────────────┼───────────────────┤\n",
       "│ dense_13 (\u001b[38;5;33mDense\u001b[0m)    │ (\u001b[38;5;45mNone\u001b[0m, \u001b[38;5;34m64\u001b[0m)        │      \u001b[38;5;34m2,112\u001b[0m │ dense_12[\u001b[38;5;34m0\u001b[0m][\u001b[38;5;34m0\u001b[0m]    │\n",
       "├─────────────────────┼───────────────────┼────────────┼───────────────────┤\n",
       "│ dense_14 (\u001b[38;5;33mDense\u001b[0m)    │ (\u001b[38;5;45mNone\u001b[0m, \u001b[38;5;34m1\u001b[0m)         │         \u001b[38;5;34m65\u001b[0m │ dense_13[\u001b[38;5;34m0\u001b[0m][\u001b[38;5;34m0\u001b[0m]    │\n",
       "└─────────────────────┴───────────────────┴────────────┴───────────────────┘\n"
      ]
     },
     "metadata": {},
     "output_type": "display_data"
    },
    {
     "data": {
      "text/html": [
       "<pre style=\"white-space:pre;overflow-x:auto;line-height:normal;font-family:Menlo,'DejaVu Sans Mono',consolas,'Courier New',monospace\"><span style=\"font-weight: bold\"> Total params: </span><span style=\"color: #00af00; text-decoration-color: #00af00\">8,609</span> (33.63 KB)\n",
       "</pre>\n"
      ],
      "text/plain": [
       "\u001b[1m Total params: \u001b[0m\u001b[38;5;34m8,609\u001b[0m (33.63 KB)\n"
      ]
     },
     "metadata": {},
     "output_type": "display_data"
    },
    {
     "data": {
      "text/html": [
       "<pre style=\"white-space:pre;overflow-x:auto;line-height:normal;font-family:Menlo,'DejaVu Sans Mono',consolas,'Courier New',monospace\"><span style=\"font-weight: bold\"> Trainable params: </span><span style=\"color: #00af00; text-decoration-color: #00af00\">8,609</span> (33.63 KB)\n",
       "</pre>\n"
      ],
      "text/plain": [
       "\u001b[1m Trainable params: \u001b[0m\u001b[38;5;34m8,609\u001b[0m (33.63 KB)\n"
      ]
     },
     "metadata": {},
     "output_type": "display_data"
    },
    {
     "data": {
      "text/html": [
       "<pre style=\"white-space:pre;overflow-x:auto;line-height:normal;font-family:Menlo,'DejaVu Sans Mono',consolas,'Courier New',monospace\"><span style=\"font-weight: bold\"> Non-trainable params: </span><span style=\"color: #00af00; text-decoration-color: #00af00\">0</span> (0.00 B)\n",
       "</pre>\n"
      ],
      "text/plain": [
       "\u001b[1m Non-trainable params: \u001b[0m\u001b[38;5;34m0\u001b[0m (0.00 B)\n"
      ]
     },
     "metadata": {},
     "output_type": "display_data"
    }
   ],
   "source": [
    "import tensorflow as tf\n",
    "from tensorflow.keras.layers import Input, Concatenate, Dense\n",
    "from tensorflow.keras.models import Model\n",
    "\n",
    "# Preprocess your data\n",
    "X_train_X1 = np.array(X_train['question1_embedding'].tolist())\n",
    "X_train_X2 = np.array(X_train['question2_embedding'].tolist())\n",
    "X_train_y = X_train['similarity_score'].values\n",
    "\n",
    "X_test_X1 = np.array(X_test['question1_embedding'].tolist())\n",
    "X_test_X2 = np.array(X_test['question2_embedding'].tolist())\n",
    "X_test_y = X_test['similarity_score'].values\n",
    "\n",
    "\n",
    "\n",
    "# Define input shapes\n",
    "input_dim = X_train_X1.shape[1]\n",
    "\n",
    "input_shape = (input_dim,)  # Define your input dimension\n",
    "\n",
    "# Define inputs\n",
    "input1 = Input(shape=input_shape)\n",
    "input2 = Input(shape=input_shape)\n",
    "\n",
    "# Concatenate the inputs\n",
    "concatenated = Concatenate(axis=-1)([input1, input2])\n",
    "\n",
    "# Add dense layers for processing\n",
    "dense1 = Dense(32, activation='relu')(concatenated)\n",
    "dense2 = Dense(64, activation='relu')(dense1)\n",
    "\n",
    "# Output layer\n",
    "output = Dense(1, activation='sigmoid')(dense2)  # Output similarity score between 0 and 1\n",
    "\n",
    "# Create the model\n",
    "model = Model(inputs=[input1, input2], outputs=output)\n",
    "\n",
    "# Compile the model\n",
    "model.compile(optimizer='adam', loss='binary_crossentropy', metrics=['accuracy'])\n",
    "\n",
    "# Print model summary\n",
    "model.summary()\n"
   ]
  },
  {
   "cell_type": "code",
   "execution_count": 58,
   "metadata": {
    "colab": {
     "base_uri": "https://localhost:8080/"
    },
    "id": "qd-gjHcEG7ng",
    "outputId": "e66d98f5-071e-49de-b1cf-f15f5210eb0b"
   },
   "outputs": [
    {
     "name": "stdout",
     "output_type": "stream",
     "text": [
      "Epoch 1/10\n",
      "\u001b[1m46/46\u001b[0m \u001b[32m━━━━━━━━━━━━━━━━━━━━\u001b[0m\u001b[37m\u001b[0m \u001b[1m2s\u001b[0m 14ms/step - accuracy: 0.7755 - loss: 0.4825 - val_accuracy: 0.8560 - val_loss: 0.3833\n",
      "Epoch 2/10\n",
      "\u001b[1m46/46\u001b[0m \u001b[32m━━━━━━━━━━━━━━━━━━━━\u001b[0m\u001b[37m\u001b[0m \u001b[1m0s\u001b[0m 6ms/step - accuracy: 0.8509 - loss: 0.3539 - val_accuracy: 0.8482 - val_loss: 0.3694\n",
      "Epoch 3/10\n",
      "\u001b[1m46/46\u001b[0m \u001b[32m━━━━━━━━━━━━━━━━━━━━\u001b[0m\u001b[37m\u001b[0m \u001b[1m0s\u001b[0m 5ms/step - accuracy: 0.8702 - loss: 0.3195 - val_accuracy: 0.8638 - val_loss: 0.3423\n",
      "Epoch 4/10\n",
      "\u001b[1m46/46\u001b[0m \u001b[32m━━━━━━━━━━━━━━━━━━━━\u001b[0m\u001b[37m\u001b[0m \u001b[1m0s\u001b[0m 5ms/step - accuracy: 0.8602 - loss: 0.3046 - val_accuracy: 0.8755 - val_loss: 0.3328\n",
      "Epoch 5/10\n",
      "\u001b[1m46/46\u001b[0m \u001b[32m━━━━━━━━━━━━━━━━━━━━\u001b[0m\u001b[37m\u001b[0m \u001b[1m0s\u001b[0m 5ms/step - accuracy: 0.8675 - loss: 0.2846 - val_accuracy: 0.8755 - val_loss: 0.3426\n",
      "Epoch 6/10\n",
      "\u001b[1m46/46\u001b[0m \u001b[32m━━━━━━━━━━━━━━━━━━━━\u001b[0m\u001b[37m\u001b[0m \u001b[1m0s\u001b[0m 5ms/step - accuracy: 0.8800 - loss: 0.2921 - val_accuracy: 0.8872 - val_loss: 0.3378\n",
      "Epoch 7/10\n",
      "\u001b[1m46/46\u001b[0m \u001b[32m━━━━━━━━━━━━━━━━━━━━\u001b[0m\u001b[37m\u001b[0m \u001b[1m0s\u001b[0m 5ms/step - accuracy: 0.8919 - loss: 0.2404 - val_accuracy: 0.8638 - val_loss: 0.3442\n",
      "Epoch 8/10\n",
      "\u001b[1m46/46\u001b[0m \u001b[32m━━━━━━━━━━━━━━━━━━━━\u001b[0m\u001b[37m\u001b[0m \u001b[1m0s\u001b[0m 5ms/step - accuracy: 0.9045 - loss: 0.2383 - val_accuracy: 0.8755 - val_loss: 0.3333\n",
      "Epoch 9/10\n",
      "\u001b[1m46/46\u001b[0m \u001b[32m━━━━━━━━━━━━━━━━━━━━\u001b[0m\u001b[37m\u001b[0m \u001b[1m0s\u001b[0m 5ms/step - accuracy: 0.9153 - loss: 0.2087 - val_accuracy: 0.8677 - val_loss: 0.3483\n",
      "Epoch 10/10\n",
      "\u001b[1m46/46\u001b[0m \u001b[32m━━━━━━━━━━━━━━━━━━━━\u001b[0m\u001b[37m\u001b[0m \u001b[1m0s\u001b[0m 5ms/step - accuracy: 0.9197 - loss: 0.2074 - val_accuracy: 0.8677 - val_loss: 0.3411\n",
      "\u001b[1m7/7\u001b[0m \u001b[32m━━━━━━━━━━━━━━━━━━━━\u001b[0m\u001b[37m\u001b[0m \u001b[1m0s\u001b[0m 4ms/step - accuracy: 0.8726 - loss: 0.2592 \n",
      "Test Accuracy: 0.8790697455406189\n"
     ]
    }
   ],
   "source": [
    "# Assuming you have your training data X_train_X1, X_train_X2, and y_train ready\n",
    "\n",
    "# Train the model\n",
    "history = model.fit([X_train_X1, X_train_X2], y_train, batch_size=32, epochs=10, validation_split=0.15)\n",
    "\n",
    "# After training, you can evaluate the model on test data\n",
    "# Assuming you have your test data X_test_X1, X_test_X2, and y_test ready\n",
    "test_loss, test_accuracy = model.evaluate([X_test_X1, X_test_X2], y_test)\n",
    "print(f'Test Accuracy: {test_accuracy}')"
   ]
  },
  {
   "cell_type": "code",
   "execution_count": 62,
   "metadata": {},
   "outputs": [],
   "source": []
  },
  {
   "cell_type": "code",
   "execution_count": 64,
   "metadata": {},
   "outputs": [
    {
     "data": {
      "application/vnd.jupyter.widget-view+json": {
       "model_id": "2dd250553d3f47b1816aa2863f778aa3",
       "version_major": 2,
       "version_minor": 0
      },
      "text/plain": [
       "modules.json:   0%|          | 0.00/349 [00:00<?, ?B/s]"
      ]
     },
     "metadata": {},
     "output_type": "display_data"
    },
    {
     "name": "stderr",
     "output_type": "stream",
     "text": [
      "C:\\Users\\Dell\\anaconda3\\Lib\\site-packages\\huggingface_hub\\file_download.py:148: UserWarning: `huggingface_hub` cache-system uses symlinks by default to efficiently store duplicated files but your machine does not support them in C:\\Users\\Dell\\.cache\\huggingface\\hub\\models--sentence-transformers--all-MiniLM-L6-v2. Caching files will still work but in a degraded version that might require more space on your disk. This warning can be disabled by setting the `HF_HUB_DISABLE_SYMLINKS_WARNING` environment variable. For more details, see https://huggingface.co/docs/huggingface_hub/how-to-cache#limitations.\n",
      "To support symlinks on Windows, you either need to activate Developer Mode or to run Python as an administrator. In order to see activate developer mode, see this article: https://docs.microsoft.com/en-us/windows/apps/get-started/enable-your-device-for-development\n",
      "  warnings.warn(message)\n"
     ]
    },
    {
     "data": {
      "application/vnd.jupyter.widget-view+json": {
       "model_id": "a8e1a1b4385749e0a5e8c1052e64952b",
       "version_major": 2,
       "version_minor": 0
      },
      "text/plain": [
       "config_sentence_transformers.json:   0%|          | 0.00/116 [00:00<?, ?B/s]"
      ]
     },
     "metadata": {},
     "output_type": "display_data"
    },
    {
     "data": {
      "application/vnd.jupyter.widget-view+json": {
       "model_id": "8b1edb31c2ac4a7a87d725754daf1e2b",
       "version_major": 2,
       "version_minor": 0
      },
      "text/plain": [
       "README.md:   0%|          | 0.00/10.7k [00:00<?, ?B/s]"
      ]
     },
     "metadata": {},
     "output_type": "display_data"
    },
    {
     "data": {
      "application/vnd.jupyter.widget-view+json": {
       "model_id": "ebaf8f0612f84a92afc04a6869015889",
       "version_major": 2,
       "version_minor": 0
      },
      "text/plain": [
       "sentence_bert_config.json:   0%|          | 0.00/53.0 [00:00<?, ?B/s]"
      ]
     },
     "metadata": {},
     "output_type": "display_data"
    },
    {
     "data": {
      "application/vnd.jupyter.widget-view+json": {
       "model_id": "d88aa649baec4808b987e8871a4a5463",
       "version_major": 2,
       "version_minor": 0
      },
      "text/plain": [
       "config.json:   0%|          | 0.00/612 [00:00<?, ?B/s]"
      ]
     },
     "metadata": {},
     "output_type": "display_data"
    },
    {
     "data": {
      "application/vnd.jupyter.widget-view+json": {
       "model_id": "6f35734e2e304ec9b56fa0d9b400009f",
       "version_major": 2,
       "version_minor": 0
      },
      "text/plain": [
       "model.safetensors:   0%|          | 0.00/90.9M [00:00<?, ?B/s]"
      ]
     },
     "metadata": {},
     "output_type": "display_data"
    },
    {
     "data": {
      "application/vnd.jupyter.widget-view+json": {
       "model_id": "a99f95367e7a418888faeee81e4a6c4a",
       "version_major": 2,
       "version_minor": 0
      },
      "text/plain": [
       "tokenizer_config.json:   0%|          | 0.00/350 [00:00<?, ?B/s]"
      ]
     },
     "metadata": {},
     "output_type": "display_data"
    },
    {
     "data": {
      "application/vnd.jupyter.widget-view+json": {
       "model_id": "bc2c99e9a3a34774995db5f9852641a7",
       "version_major": 2,
       "version_minor": 0
      },
      "text/plain": [
       "vocab.txt:   0%|          | 0.00/232k [00:00<?, ?B/s]"
      ]
     },
     "metadata": {},
     "output_type": "display_data"
    },
    {
     "data": {
      "application/vnd.jupyter.widget-view+json": {
       "model_id": "0487d3533d0740fe8bd530cdbf3094de",
       "version_major": 2,
       "version_minor": 0
      },
      "text/plain": [
       "tokenizer.json:   0%|          | 0.00/466k [00:00<?, ?B/s]"
      ]
     },
     "metadata": {},
     "output_type": "display_data"
    },
    {
     "data": {
      "application/vnd.jupyter.widget-view+json": {
       "model_id": "5299a7303afb4aecac631d10156ff9dd",
       "version_major": 2,
       "version_minor": 0
      },
      "text/plain": [
       "special_tokens_map.json:   0%|          | 0.00/112 [00:00<?, ?B/s]"
      ]
     },
     "metadata": {},
     "output_type": "display_data"
    },
    {
     "data": {
      "application/vnd.jupyter.widget-view+json": {
       "model_id": "e8e6594ef0fb45eda7ea05168d65317f",
       "version_major": 2,
       "version_minor": 0
      },
      "text/plain": [
       "1_Pooling/config.json:   0%|          | 0.00/190 [00:00<?, ?B/s]"
      ]
     },
     "metadata": {},
     "output_type": "display_data"
    },
    {
     "name": "stdout",
     "output_type": "stream",
     "text": [
      "Train similarity scores:\n",
      "tensor([[0.7018, 0.2973, 0.1653,  ..., 0.2056, 0.0700, 0.2535],\n",
      "        [0.2019, 0.6900, 0.1422,  ..., 0.3246, 0.2457, 0.1732],\n",
      "        [0.0416, 0.1317, 0.6836,  ..., 0.1339, 0.2495, 0.3050],\n",
      "        ...,\n",
      "        [0.1457, 0.2064, 0.2192,  ..., 0.8122, 0.2044, 0.0628],\n",
      "        [0.1005, 0.1698, 0.3280,  ..., 0.1996, 0.9487, 0.2687],\n",
      "        [0.2318, 0.1039, 0.3361,  ..., 0.0121, 0.2936, 0.9278]])\n",
      "Validation similarity scores:\n",
      "tensor([[0.7332, 0.1041, 0.3396,  ..., 0.2722, 0.4743, 0.2650],\n",
      "        [0.1931, 0.7105, 0.0591,  ..., 0.1371, 0.2825, 0.1589],\n",
      "        [0.3465, 0.2227, 0.6957,  ..., 0.2318, 0.1575, 0.2098],\n",
      "        ...,\n",
      "        [0.2865, 0.1340, 0.1673,  ..., 0.8443, 0.2782, 0.0595],\n",
      "        [0.3804, 0.2179, 0.1466,  ..., 0.1237, 0.6755, 0.2934],\n",
      "        [0.1976, 0.0712, 0.0762,  ..., 0.1004, 0.1356, 0.2642]])\n",
      "Test similarity scores:\n",
      "tensor([[0.4027, 0.0945, 0.3054,  ..., 0.2119, 0.2871, 0.1614],\n",
      "        [0.2150, 0.2298, 0.2499,  ..., 0.2630, 0.2581, 0.1638],\n",
      "        [0.0399, 0.2174, 0.7978,  ..., 0.1195, 0.0374, 0.0586],\n",
      "        ...,\n",
      "        [0.2526, 0.1949, 0.1970,  ..., 0.4058, 0.2306, 0.2846],\n",
      "        [0.1927, 0.2858, 0.2535,  ..., 0.2796, 0.7549, 0.3777],\n",
      "        [0.2073, 0.2311, 0.1378,  ..., 0.2584, 0.3756, 0.9092]])\n"
     ]
    }
   ],
   "source": [
    "from sentence_transformers import SentenceTransformer, util\n",
    "model = SentenceTransformer('sentence-transformers/all-MiniLM-L6-v2')\n",
    "# Function to compute embeddings and cosine similarity scores\n",
    "def compute_similarity_scores(model, question_pairs):\n",
    "    embeddings1 = model.encode(question_pairs['question1'].tolist(), convert_to_tensor=True)\n",
    "    embeddings2 = model.encode(question_pairs['question2'].tolist(), convert_to_tensor=True)\n",
    "    cosine_scores = util.pytorch_cos_sim(embeddings1, embeddings2)\n",
    "    return cosine_scores\n",
    "# Compute similarity scores for the training set\n",
    "train_scores = compute_similarity_scores(model, X_train)\n",
    "print(f\"Train similarity scores:\\n{train_scores}\")\n",
    "\n",
    "# Compute similarity scores for the validation set\n",
    "val_scores = compute_similarity_scores(model, X_val)\n",
    "print(f\"Validation similarity scores:\\n{val_scores}\")\n",
    "\n",
    "# Compute similarity scores for the test set\n",
    "test_scores = compute_similarity_scores(model, X_test)\n",
    "print(f\"Test similarity scores:\\n{test_scores}\")"
   ]
  },
  {
   "cell_type": "code",
   "execution_count": 72,
   "metadata": {},
   "outputs": [
    {
     "name": "stdout",
     "output_type": "stream",
     "text": [
      "Accuracy: 0.7904261529480444\n",
      "Precision: 0.8157\n",
      "Recall: 0.9335\n",
      "F1 Score: 0.8706\n"
     ]
    }
   ],
   "source": [
    "# Define a threshold for similarity scores\n",
    "\n",
    "def convert_to_predictions(scores, threshold):\n",
    "    predictions = []\n",
    "    for score_list in scores:\n",
    "        # Calculate the average similarity score for each pair\n",
    "        avg_score = sum(score_list) / len(score_list)\n",
    "        # Convert the average score to a binary prediction\n",
    "        prediction = 1 if avg_score >= threshold else 0\n",
    "        predictions.append(prediction)\n",
    "    return predictions\n",
    "\n",
    "\n",
    "from sklearn.metrics import precision_score, recall_score, f1_score\n",
    "\n",
    "# Convert cosine_scores to binary predictions based on the chosen threshold\n",
    "threshold = 0.5  # Adjust this threshold based on your validation set\n",
    "binary_predictions = (train_scores.diag() > threshold).int()\n",
    "\n",
    "# Calculate precision, recall, and F1 score\n",
    "accuracy = accuracy_score(y_train, binary_predictions)\n",
    "precision = precision_score(y_train, binary_predictions)\n",
    "recall = recall_score(y_train, binary_predictions)\n",
    "f1 = f1_score(y_train, binary_predictions)\n",
    "\n",
    "print(f\"Accuracy: {accuracy}\")\n",
    "print(f\"Precision: {precision:.4f}\")\n",
    "print(f\"Recall: {recall:.4f}\")\n",
    "print(f\"F1 Score: {f1:.4f}\")\n",
    "\n",
    "\n"
   ]
  },
  {
   "cell_type": "code",
   "execution_count": 75,
   "metadata": {},
   "outputs": [
    {
     "name": "stdout",
     "output_type": "stream",
     "text": [
      "Accuracy: 0.7488372093023256\n",
      "Precision: 0.7903\n",
      "Recall: 0.9074\n",
      "F1 Score: 0.8448\n"
     ]
    }
   ],
   "source": [
    "# Define a threshold for similarity scores\n",
    "\n",
    "def convert_to_predictions(scores, threshold):\n",
    "    predictions = []\n",
    "    for score_list in scores:\n",
    "        # Calculate the average similarity score for each pair\n",
    "        avg_score = sum(score_list) / len(score_list)\n",
    "        # Convert the average score to a binary prediction\n",
    "        prediction = 1 if avg_score >= threshold else 0\n",
    "        predictions.append(prediction)\n",
    "    return predictions\n",
    "\n",
    "\n",
    "from sklearn.metrics import precision_score, recall_score, f1_score\n",
    "\n",
    "# Convert cosine_scores to binary predictions based on the chosen threshold\n",
    "threshold = 0.5  # Adjust this threshold based on your validation set\n",
    "test_binary_predictions = (test_scores.diag() > threshold).int()\n",
    "\n",
    "# Calculate precision, recall, and F1 score\n",
    "accuracy = accuracy_score(y_test, test_binary_predictions)\n",
    "precision = precision_score(y_test, test_binary_predictions)\n",
    "recall = recall_score(y_test, test_binary_predictions)\n",
    "f1 = f1_score(y_test, test_binary_predictions)\n",
    "\n",
    "print(f\"Accuracy: {accuracy}\")\n",
    "print(f\"Precision: {precision:.4f}\")\n",
    "print(f\"Recall: {recall:.4f}\")\n",
    "print(f\"F1 Score: {f1:.4f}\")\n",
    "\n",
    "\n"
   ]
  },
  {
   "cell_type": "code",
   "execution_count": 79,
   "metadata": {},
   "outputs": [],
   "source": [
    "import numpy as np\n",
    "import tkinter as tk\n",
    "from tkinter import simpledialog\n",
    "\n",
    "# Load your Word2Vec model\n",
    "word_embeddings = np.load('word_embeddings.npy')\n",
    "\n",
    "# Function to find the most similar words (dummy function for illustration)\n",
    "def find_similar_words(word):\n",
    "    # Your logic to find similar words goes here\n",
    "    # For now, it just returns a dummy list\n",
    "    return [\"word1\", \"word2\", \"word3\"]\n",
    "\n",
    "# Create the main window\n",
    "root = tk.Tk()\n",
    "root.title(\"Word2Vec GUI\")\n",
    "\n",
    "# Add an entry field\n",
    "entry = tk.Entry(root)\n",
    "entry.pack()\n",
    "\n",
    "# Function to handle button click\n",
    "def on_button_click():\n",
    "    word = entry.get()\n",
    "    similar_words = find_similar_words(word)\n",
    "    result_label.config(text=\"\\n\".join(similar_words))\n",
    "\n",
    "# Add a button\n",
    "button = tk.Button(root, text=\"Find Similar Words\", command=on_button_click)\n",
    "button.pack()\n",
    "\n",
    "# Add a label to display results\n",
    "result_label = tk.Label(root, text=\"\")\n",
    "result_label.pack()\n",
    "\n",
    "# Run the application\n",
    "root.mainloop()\n"
   ]
  },
  {
   "cell_type": "code",
   "execution_count": 97,
   "metadata": {},
   "outputs": [],
   "source": [
    "import tkinter as tk\n",
    "from tkinter import ttk\n",
    "import numpy as np\n",
    "from scipy.spatial.distance import cosine\n",
    "from collections import defaultdict  # Import defaultdict to use in text_to_index\n",
    "\n",
    "# Load the numpy array of word embeddings (replace 'word_embeddings.npy' with your file path)\n",
    "word_embeddings = np.load('word_embeddings.npy')\n",
    "\n",
    "# Dummy function to convert text to indices (you'll need to implement this)\n",
    "def text_to_index(text):\n",
    "    word_to_idx = defaultdict(lambda: len(word_to_idx))\n",
    "    data_indices = []\n",
    "    for tokens in X_train['question1']:\n",
    "        indices = [word_to_idx[token] for token in tokens]\n",
    "        data_indices.append(indices)\n",
    "    vocab_size = len(word_to_idx)\n",
    "    return hash(text) % len(word_embeddings)\n",
    "\n",
    "\n",
    "# Function to calculate sentence similarity\n",
    "def calculate_similarity():\n",
    "    text1 = entry1.get()\n",
    "    text2 = entry2.get()\n",
    "    \n",
    "    # Convert the input sentences into indices\n",
    "    index1 = text_to_index(text1)\n",
    "    index2 = text_to_index(text2)\n",
    "    \n",
    "    # Retrieve embeddings for the indices\n",
    "    embedding1 = word_embeddings[index1]\n",
    "    embedding2 = word_embeddings[index2]\n",
    "    \n",
    "    # Calculate cosine similarity between the vectors\n",
    "    similarity_score = 1 - cosine(embedding1, embedding2)\n",
    "    \n",
    "    # Display the similarity score\n",
    "    output_text.delete(1.0, tk.END)\n",
    "    output_text.insert(tk.END, f\"Similarity Score: {similarity_score:.4f}\")\n",
    "\n",
    "# Create the main window\n",
    "root = tk.Tk()\n",
    "root.title(\"Sentence Similarity Model GUI\")\n",
    "\n",
    "# Create input fields\n",
    "label1 = ttk.Label(root, text=\"Input 1:\")\n",
    "label1.grid(row=0, column=0, padx=5, pady=5, sticky=\"w\")\n",
    "entry1 = ttk.Entry(root, width=40)\n",
    "entry1.grid(row=0, column=1, padx=5, pady=5)\n",
    "\n",
    "label2 = ttk.Label(root, text=\"Input 2:\")\n",
    "label2.grid(row=1, column=0, padx=5, pady=5, sticky=\"w\")\n",
    "entry2 = ttk.Entry(root, width=40)\n",
    "entry2.grid(row=1, column=1, padx=5, pady=5)\n",
    "\n",
    "# Create button to trigger similarity calculation\n",
    "calculate_button = ttk.Button(root, text=\"Calculate Similarity\", command=calculate_similarity)\n",
    "calculate_button.grid(row=2, column=0, columnspan=2, padx=5, pady=5)\n",
    "\n",
    "# Create output field\n",
    "output_text = tk.Text(root, height=2, width=50)\n",
    "output_text.grid(row=3, column=0, columnspan=2, padx=5, pady=5)\n",
    "\n",
    "root.mainloop()\n"
   ]
  },
  {
   "cell_type": "code",
   "execution_count": null,
   "metadata": {},
   "outputs": [],
   "source": []
  },
  {
   "cell_type": "code",
   "execution_count": null,
   "metadata": {},
   "outputs": [],
   "source": []
  }
 ],
 "metadata": {
  "colab": {
   "provenance": []
  },
  "kernelspec": {
   "display_name": "Python 3 (ipykernel)",
   "language": "python",
   "name": "python3"
  },
  "language_info": {
   "codemirror_mode": {
    "name": "ipython",
    "version": 3
   },
   "file_extension": ".py",
   "mimetype": "text/x-python",
   "name": "python",
   "nbconvert_exporter": "python",
   "pygments_lexer": "ipython3",
   "version": "3.11.5"
  }
 },
 "nbformat": 4,
 "nbformat_minor": 1
}
